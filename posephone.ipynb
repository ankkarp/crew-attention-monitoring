{
 "cells": [
  {
   "cell_type": "code",
   "execution_count": 6,
   "id": "initial_id",
   "metadata": {
    "collapsed": true,
    "ExecuteTime": {
     "end_time": "2023-09-22T14:17:53.310142451Z",
     "start_time": "2023-09-22T14:17:53.269329458Z"
    }
   },
   "outputs": [],
   "source": [
    "import pandas as pd"
   ]
  },
  {
   "cell_type": "code",
   "execution_count": 7,
   "outputs": [
    {
     "data": {
      "text/plain": "               1                                       2  \\\n0                                                          \n1       0.033333                     {'chair', 'person'}   \n2       0.066667                     {'chair', 'person'}   \n3       0.100000                     {'chair', 'person'}   \n4       0.133333                     {'chair', 'person'}   \n5       0.166667                     {'chair', 'person'}   \n...          ...                                     ...   \n5192  173.066667  {'backpack', 'chair', 'person', 'car'}   \n5193  173.100000  {'backpack', 'chair', 'person', 'car'}   \n5194  173.133333  {'backpack', 'chair', 'person', 'car'}   \n5195  173.166667  {'car', 'backpack', 'chair', 'person'}   \n5196  173.200000  {'backpack', 'chair', 'person', 'car'}   \n\n                                                      3  \n0                                                        \n1     {'person': [array([      852.6,      492.84,  ...  \n2     {'person': [array([     851.51,      490.66,  ...  \n3     {'person': [array([     851.67,      490.86,  ...  \n4     {'person': [array([     851.63,      489.55,  ...  \n5     {'person': [array([      851.7,      489.01,  ...  \n...                                                 ...  \n5192  {'person': [array([     956.16,      301.16,  ...  \n5193  {'person': [array([     129.94,      126.29,  ...  \n5194  {'person': [array([      955.3,      309.95,  ...  \n5195  {'person': [array([     133.21,      124.49,  ...  \n5196  {'person': [array([     133.41,      124.47,  ...  \n\n[5191 rows x 3 columns]",
      "text/html": "<div>\n<style scoped>\n    .dataframe tbody tr th:only-of-type {\n        vertical-align: middle;\n    }\n\n    .dataframe tbody tr th {\n        vertical-align: top;\n    }\n\n    .dataframe thead th {\n        text-align: right;\n    }\n</style>\n<table border=\"1\" class=\"dataframe\">\n  <thead>\n    <tr style=\"text-align: right;\">\n      <th></th>\n      <th>1</th>\n      <th>2</th>\n      <th>3</th>\n    </tr>\n    <tr>\n      <th>0</th>\n      <th></th>\n      <th></th>\n      <th></th>\n    </tr>\n  </thead>\n  <tbody>\n    <tr>\n      <th>1</th>\n      <td>0.033333</td>\n      <td>{'chair', 'person'}</td>\n      <td>{'person': [array([      852.6,      492.84,  ...</td>\n    </tr>\n    <tr>\n      <th>2</th>\n      <td>0.066667</td>\n      <td>{'chair', 'person'}</td>\n      <td>{'person': [array([     851.51,      490.66,  ...</td>\n    </tr>\n    <tr>\n      <th>3</th>\n      <td>0.100000</td>\n      <td>{'chair', 'person'}</td>\n      <td>{'person': [array([     851.67,      490.86,  ...</td>\n    </tr>\n    <tr>\n      <th>4</th>\n      <td>0.133333</td>\n      <td>{'chair', 'person'}</td>\n      <td>{'person': [array([     851.63,      489.55,  ...</td>\n    </tr>\n    <tr>\n      <th>5</th>\n      <td>0.166667</td>\n      <td>{'chair', 'person'}</td>\n      <td>{'person': [array([      851.7,      489.01,  ...</td>\n    </tr>\n    <tr>\n      <th>...</th>\n      <td>...</td>\n      <td>...</td>\n      <td>...</td>\n    </tr>\n    <tr>\n      <th>5192</th>\n      <td>173.066667</td>\n      <td>{'backpack', 'chair', 'person', 'car'}</td>\n      <td>{'person': [array([     956.16,      301.16,  ...</td>\n    </tr>\n    <tr>\n      <th>5193</th>\n      <td>173.100000</td>\n      <td>{'backpack', 'chair', 'person', 'car'}</td>\n      <td>{'person': [array([     129.94,      126.29,  ...</td>\n    </tr>\n    <tr>\n      <th>5194</th>\n      <td>173.133333</td>\n      <td>{'backpack', 'chair', 'person', 'car'}</td>\n      <td>{'person': [array([      955.3,      309.95,  ...</td>\n    </tr>\n    <tr>\n      <th>5195</th>\n      <td>173.166667</td>\n      <td>{'car', 'backpack', 'chair', 'person'}</td>\n      <td>{'person': [array([     133.21,      124.49,  ...</td>\n    </tr>\n    <tr>\n      <th>5196</th>\n      <td>173.200000</td>\n      <td>{'backpack', 'chair', 'person', 'car'}</td>\n      <td>{'person': [array([     133.41,      124.47,  ...</td>\n    </tr>\n  </tbody>\n</table>\n<p>5191 rows × 3 columns</p>\n</div>"
     },
     "execution_count": 7,
     "metadata": {},
     "output_type": "execute_result"
    }
   ],
   "source": [
    "detected_data = pd.read_csv('result/detected_data.csv', index_col=0)\n",
    "detected_data"
   ],
   "metadata": {
    "collapsed": false,
    "ExecuteTime": {
     "end_time": "2023-09-22T14:17:58.058494764Z",
     "start_time": "2023-09-22T14:17:58.016523775Z"
    }
   },
   "id": "8425eb732d384aea"
  },
  {
   "cell_type": "code",
   "execution_count": 5,
   "outputs": [
    {
     "data": {
      "text/plain": "               1                                                  2\n0                                                                  \n1       0.033333  [[     1002.5      663.66]\\n [     989.18     ...\n2       0.066667  [[       1013      678.22]\\n [     996.05     ...\n3       0.100000  [[     1033.2      691.55]\\n [       1011     ...\n4       0.133333  [[     1020.5      678.05]\\n [     1001.2     ...\n5       0.166667  [[     1015.9       672.3]\\n [     997.87     ...\n...          ...                                                ...\n5192  173.066667  [[     1289.4      608.23]\\n [     1278.4     ...\n5193  173.100000  [[     1293.4       593.5]\\n [     1284.4     ...\n5194  173.133333  [[     1293.4      589.21]\\n [     1283.7     ...\n5195  173.166667  [[     1283.8      588.63]\\n [     1274.6     ...\n5196  173.200000  [[     1294.3      575.75]\\n [     1283.1     ...\n\n[5196 rows x 2 columns]",
      "text/html": "<div>\n<style scoped>\n    .dataframe tbody tr th:only-of-type {\n        vertical-align: middle;\n    }\n\n    .dataframe tbody tr th {\n        vertical-align: top;\n    }\n\n    .dataframe thead th {\n        text-align: right;\n    }\n</style>\n<table border=\"1\" class=\"dataframe\">\n  <thead>\n    <tr style=\"text-align: right;\">\n      <th></th>\n      <th>1</th>\n      <th>2</th>\n    </tr>\n    <tr>\n      <th>0</th>\n      <th></th>\n      <th></th>\n    </tr>\n  </thead>\n  <tbody>\n    <tr>\n      <th>1</th>\n      <td>0.033333</td>\n      <td>[[     1002.5      663.66]\\n [     989.18     ...</td>\n    </tr>\n    <tr>\n      <th>2</th>\n      <td>0.066667</td>\n      <td>[[       1013      678.22]\\n [     996.05     ...</td>\n    </tr>\n    <tr>\n      <th>3</th>\n      <td>0.100000</td>\n      <td>[[     1033.2      691.55]\\n [       1011     ...</td>\n    </tr>\n    <tr>\n      <th>4</th>\n      <td>0.133333</td>\n      <td>[[     1020.5      678.05]\\n [     1001.2     ...</td>\n    </tr>\n    <tr>\n      <th>5</th>\n      <td>0.166667</td>\n      <td>[[     1015.9       672.3]\\n [     997.87     ...</td>\n    </tr>\n    <tr>\n      <th>...</th>\n      <td>...</td>\n      <td>...</td>\n    </tr>\n    <tr>\n      <th>5192</th>\n      <td>173.066667</td>\n      <td>[[     1289.4      608.23]\\n [     1278.4     ...</td>\n    </tr>\n    <tr>\n      <th>5193</th>\n      <td>173.100000</td>\n      <td>[[     1293.4       593.5]\\n [     1284.4     ...</td>\n    </tr>\n    <tr>\n      <th>5194</th>\n      <td>173.133333</td>\n      <td>[[     1293.4      589.21]\\n [     1283.7     ...</td>\n    </tr>\n    <tr>\n      <th>5195</th>\n      <td>173.166667</td>\n      <td>[[     1283.8      588.63]\\n [     1274.6     ...</td>\n    </tr>\n    <tr>\n      <th>5196</th>\n      <td>173.200000</td>\n      <td>[[     1294.3      575.75]\\n [     1283.1     ...</td>\n    </tr>\n  </tbody>\n</table>\n<p>5196 rows × 2 columns</p>\n</div>"
     },
     "execution_count": 5,
     "metadata": {},
     "output_type": "execute_result"
    }
   ],
   "source": [
    "pos_est_data = pd.read_csv('result/pos_est_data.csv', index_col=0)\n",
    "pos_est_data"
   ],
   "metadata": {
    "collapsed": false,
    "ExecuteTime": {
     "end_time": "2023-09-22T13:38:44.798499453Z",
     "start_time": "2023-09-22T13:38:44.747102185Z"
    }
   },
   "id": "a2d7ea27074ce4a0"
  },
  {
   "cell_type": "code",
   "execution_count": null,
   "outputs": [],
   "source": [],
   "metadata": {
    "collapsed": false
   },
   "id": "f7490272fe13205b"
  }
 ],
 "metadata": {
  "kernelspec": {
   "display_name": "Python 3",
   "language": "python",
   "name": "python3"
  },
  "language_info": {
   "codemirror_mode": {
    "name": "ipython",
    "version": 2
   },
   "file_extension": ".py",
   "mimetype": "text/x-python",
   "name": "python",
   "nbconvert_exporter": "python",
   "pygments_lexer": "ipython2",
   "version": "2.7.6"
  }
 },
 "nbformat": 4,
 "nbformat_minor": 5
}
