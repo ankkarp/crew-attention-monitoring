{
 "cells": [
  {
   "cell_type": "code",
   "execution_count": 1,
   "id": "initial_id",
   "metadata": {
    "collapsed": true,
    "ExecuteTime": {
     "end_time": "2023-09-22T16:59:22.997680696Z",
     "start_time": "2023-09-22T16:59:22.829968479Z"
    }
   },
   "outputs": [],
   "source": [
    "import pandas as pd"
   ]
  },
  {
   "cell_type": "code",
   "execution_count": 2,
   "outputs": [
    {
     "data": {
      "text/plain": "                Time    Objects_class  \\\nFrame_id                                \n1           0.083333  {'cell phones'}   \n2           0.166667  {'cell phones'}   \n3           0.250000  {'cell phones'}   \n4           0.333333  {'cell phones'}   \n5           0.416667  {'cell phones'}   \n...              ...              ...   \n5192      432.666667  {'cell phones'}   \n5193      432.750000  {'cell phones'}   \n5194      432.833333  {'cell phones'}   \n5195      432.916667  {'cell phones'}   \n5196      433.000000  {'cell phones'}   \n\n                                                   Position  \nFrame_id                                                     \n1         {'cell phones': [array([     346.82,       337...  \n2         {'cell phones': [array([     347.07,      337....  \n3         {'cell phones': [array([     347.21,      337....  \n4         {'cell phones': [array([     347.14,      336....  \n5         {'cell phones': [array([     347.23,      336....  \n...                                                     ...  \n5192      {'cell phones': [array([     1626.2,       131...  \n5193      {'cell phones': [array([     1626.4,      131....  \n5194      {'cell phones': [array([     1626.4,      131....  \n5195      {'cell phones': [array([     1626.4,      130....  \n5196      {'cell phones': [array([     1626.4,      131....  \n\n[3847 rows x 3 columns]",
      "text/html": "<div>\n<style scoped>\n    .dataframe tbody tr th:only-of-type {\n        vertical-align: middle;\n    }\n\n    .dataframe tbody tr th {\n        vertical-align: top;\n    }\n\n    .dataframe thead th {\n        text-align: right;\n    }\n</style>\n<table border=\"1\" class=\"dataframe\">\n  <thead>\n    <tr style=\"text-align: right;\">\n      <th></th>\n      <th>Time</th>\n      <th>Objects_class</th>\n      <th>Position</th>\n    </tr>\n    <tr>\n      <th>Frame_id</th>\n      <th></th>\n      <th></th>\n      <th></th>\n    </tr>\n  </thead>\n  <tbody>\n    <tr>\n      <th>1</th>\n      <td>0.083333</td>\n      <td>{'cell phones'}</td>\n      <td>{'cell phones': [array([     346.82,       337...</td>\n    </tr>\n    <tr>\n      <th>2</th>\n      <td>0.166667</td>\n      <td>{'cell phones'}</td>\n      <td>{'cell phones': [array([     347.07,      337....</td>\n    </tr>\n    <tr>\n      <th>3</th>\n      <td>0.250000</td>\n      <td>{'cell phones'}</td>\n      <td>{'cell phones': [array([     347.21,      337....</td>\n    </tr>\n    <tr>\n      <th>4</th>\n      <td>0.333333</td>\n      <td>{'cell phones'}</td>\n      <td>{'cell phones': [array([     347.14,      336....</td>\n    </tr>\n    <tr>\n      <th>5</th>\n      <td>0.416667</td>\n      <td>{'cell phones'}</td>\n      <td>{'cell phones': [array([     347.23,      336....</td>\n    </tr>\n    <tr>\n      <th>...</th>\n      <td>...</td>\n      <td>...</td>\n      <td>...</td>\n    </tr>\n    <tr>\n      <th>5192</th>\n      <td>432.666667</td>\n      <td>{'cell phones'}</td>\n      <td>{'cell phones': [array([     1626.2,       131...</td>\n    </tr>\n    <tr>\n      <th>5193</th>\n      <td>432.750000</td>\n      <td>{'cell phones'}</td>\n      <td>{'cell phones': [array([     1626.4,      131....</td>\n    </tr>\n    <tr>\n      <th>5194</th>\n      <td>432.833333</td>\n      <td>{'cell phones'}</td>\n      <td>{'cell phones': [array([     1626.4,      131....</td>\n    </tr>\n    <tr>\n      <th>5195</th>\n      <td>432.916667</td>\n      <td>{'cell phones'}</td>\n      <td>{'cell phones': [array([     1626.4,      130....</td>\n    </tr>\n    <tr>\n      <th>5196</th>\n      <td>433.000000</td>\n      <td>{'cell phones'}</td>\n      <td>{'cell phones': [array([     1626.4,      131....</td>\n    </tr>\n  </tbody>\n</table>\n<p>3847 rows × 3 columns</p>\n</div>"
     },
     "execution_count": 2,
     "metadata": {},
     "output_type": "execute_result"
    }
   ],
   "source": [
    "detected_data = pd.read_csv('result/detected_data.csv', index_col=0)\n",
    "detected_data"
   ],
   "metadata": {
    "collapsed": false,
    "ExecuteTime": {
     "end_time": "2023-09-22T16:59:23.630928512Z",
     "start_time": "2023-09-22T16:59:23.612774029Z"
    }
   },
   "id": "8425eb732d384aea"
  },
  {
   "cell_type": "code",
   "execution_count": 12,
   "outputs": [
    {
     "data": {
      "text/plain": "                Time                                          Keypoints\nFrame_id                                                               \n1           0.083333  [[     1002.5      664.05]\\n [      989.2     ...\n2           0.166667  [[       1013      678.29]\\n [     996.05     ...\n3           0.250000  [[     1033.1      691.59]\\n [       1011     ...\n4           0.333333  [[     1020.5      678.32]\\n [     1001.3     ...\n5           0.416667  [[     1015.9      672.63]\\n [     997.95     ...\n...              ...                                                ...\n5192      432.666667  [[     1283.9      603.65]\\n [     1275.1     ...\n5193      432.750000  [[     1293.5      593.57]\\n [     1284.5     ...\n5194      432.833333  [[     1293.4      589.28]\\n [     1283.7     ...\n5195      432.916667  [[     1283.9      588.66]\\n [     1274.6     ...\n5196      433.000000  [[     1294.3      575.87]\\n [     1283.1     ...\n\n[5196 rows x 2 columns]",
      "text/html": "<div>\n<style scoped>\n    .dataframe tbody tr th:only-of-type {\n        vertical-align: middle;\n    }\n\n    .dataframe tbody tr th {\n        vertical-align: top;\n    }\n\n    .dataframe thead th {\n        text-align: right;\n    }\n</style>\n<table border=\"1\" class=\"dataframe\">\n  <thead>\n    <tr style=\"text-align: right;\">\n      <th></th>\n      <th>Time</th>\n      <th>Keypoints</th>\n    </tr>\n    <tr>\n      <th>Frame_id</th>\n      <th></th>\n      <th></th>\n    </tr>\n  </thead>\n  <tbody>\n    <tr>\n      <th>1</th>\n      <td>0.083333</td>\n      <td>[[     1002.5      664.05]\\n [      989.2     ...</td>\n    </tr>\n    <tr>\n      <th>2</th>\n      <td>0.166667</td>\n      <td>[[       1013      678.29]\\n [     996.05     ...</td>\n    </tr>\n    <tr>\n      <th>3</th>\n      <td>0.250000</td>\n      <td>[[     1033.1      691.59]\\n [       1011     ...</td>\n    </tr>\n    <tr>\n      <th>4</th>\n      <td>0.333333</td>\n      <td>[[     1020.5      678.32]\\n [     1001.3     ...</td>\n    </tr>\n    <tr>\n      <th>5</th>\n      <td>0.416667</td>\n      <td>[[     1015.9      672.63]\\n [     997.95     ...</td>\n    </tr>\n    <tr>\n      <th>...</th>\n      <td>...</td>\n      <td>...</td>\n    </tr>\n    <tr>\n      <th>5192</th>\n      <td>432.666667</td>\n      <td>[[     1283.9      603.65]\\n [     1275.1     ...</td>\n    </tr>\n    <tr>\n      <th>5193</th>\n      <td>432.750000</td>\n      <td>[[     1293.5      593.57]\\n [     1284.5     ...</td>\n    </tr>\n    <tr>\n      <th>5194</th>\n      <td>432.833333</td>\n      <td>[[     1293.4      589.28]\\n [     1283.7     ...</td>\n    </tr>\n    <tr>\n      <th>5195</th>\n      <td>432.916667</td>\n      <td>[[     1283.9      588.66]\\n [     1274.6     ...</td>\n    </tr>\n    <tr>\n      <th>5196</th>\n      <td>433.000000</td>\n      <td>[[     1294.3      575.87]\\n [     1283.1     ...</td>\n    </tr>\n  </tbody>\n</table>\n<p>5196 rows × 2 columns</p>\n</div>"
     },
     "execution_count": 12,
     "metadata": {},
     "output_type": "execute_result"
    }
   ],
   "source": [
    "pos_est_data = pd.read_csv('result/pos_est_data.csv', index_col=0)\n",
    "pos_est_data"
   ],
   "metadata": {
    "collapsed": false,
    "ExecuteTime": {
     "end_time": "2023-09-22T17:05:10.162357188Z",
     "start_time": "2023-09-22T17:05:10.131289340Z"
    }
   },
   "id": "a2d7ea27074ce4a0"
  },
  {
   "cell_type": "code",
   "execution_count": 25,
   "outputs": [
    {
     "data": {
      "text/plain": "Time                                                182.333333\nKeypoints    [[     1447.2      654.17]\\n [     1447.8     ...\nName: 2188, dtype: object"
     },
     "execution_count": 25,
     "metadata": {},
     "output_type": "execute_result"
    }
   ],
   "source": [
    "pos_est_data.loc[2188]"
   ],
   "metadata": {
    "collapsed": false,
    "ExecuteTime": {
     "end_time": "2023-09-22T17:12:34.060479502Z",
     "start_time": "2023-09-22T17:12:34.015721542Z"
    }
   },
   "id": "3477302fcb57ec55"
  },
  {
   "cell_type": "code",
   "execution_count": null,
   "outputs": [],
   "source": [],
   "metadata": {
    "collapsed": false
   },
   "id": "fbff6d31395774dd"
  },
  {
   "cell_type": "code",
   "execution_count": 28,
   "outputs": [
    {
     "name": "stdout",
     "output_type": "stream",
     "text": [
      "2188\n",
      "2189\n",
      "2190\n",
      "2191\n",
      "2192\n",
      "2193\n"
     ]
    }
   ],
   "source": [
    "point_n = set()\n",
    "for i, point in enumerate(pos_est_data.Keypoints.values):\n",
    "    point = point.split('\\n')\n",
    "    point_n.add(len(point))\n",
    "    if len(point) == 1:\n",
    "        print(i)"
   ],
   "metadata": {
    "collapsed": false,
    "ExecuteTime": {
     "end_time": "2023-09-22T17:13:46.484690480Z",
     "start_time": "2023-09-22T17:13:46.477667705Z"
    }
   },
   "id": "f7490272fe13205b"
  },
  {
   "cell_type": "code",
   "execution_count": null,
   "outputs": [],
   "source": [],
   "metadata": {
    "collapsed": false
   },
   "id": "8d2652ef5a1995bb"
  },
  {
   "cell_type": "code",
   "execution_count": 22,
   "outputs": [
    {
     "data": {
      "text/plain": "{1, 17}"
     },
     "execution_count": 22,
     "metadata": {},
     "output_type": "execute_result"
    }
   ],
   "source": [
    "point_n"
   ],
   "metadata": {
    "collapsed": false,
    "ExecuteTime": {
     "end_time": "2023-09-22T17:10:14.344053173Z",
     "start_time": "2023-09-22T17:10:14.338513360Z"
    }
   },
   "id": "df9ddfc0e1c343f2"
  },
  {
   "cell_type": "code",
   "execution_count": null,
   "outputs": [],
   "source": [],
   "metadata": {
    "collapsed": false
   },
   "id": "31f0a3797802d1ab"
  }
 ],
 "metadata": {
  "kernelspec": {
   "display_name": "Python 3",
   "language": "python",
   "name": "python3"
  },
  "language_info": {
   "codemirror_mode": {
    "name": "ipython",
    "version": 2
   },
   "file_extension": ".py",
   "mimetype": "text/x-python",
   "name": "python",
   "nbconvert_exporter": "python",
   "pygments_lexer": "ipython2",
   "version": "2.7.6"
  }
 },
 "nbformat": 4,
 "nbformat_minor": 5
}
