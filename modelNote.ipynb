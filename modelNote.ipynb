{
 "cells": [
  {
   "cell_type": "code",
   "execution_count": 16,
   "metadata": {
    "collapsed": true,
    "ExecuteTime": {
     "end_time": "2023-09-22T19:02:54.749928504Z",
     "start_time": "2023-09-22T19:02:54.707586567Z"
    }
   },
   "outputs": [],
   "source": [
    "from model import AttentionModel"
   ]
  },
  {
   "cell_type": "code",
   "execution_count": 10,
   "outputs": [],
   "source": [
    "keyPoints = {\n",
    "    'NOSE': 0,\n",
    "    'LEFT_EYE': 1,\n",
    "    'RIGHT_EYE': 2,\n",
    "    'LEFT_EAR':3,\n",
    "    'RIGHT_EAR': 4,\n",
    "    'LEFT_SHOULDER': 5,\n",
    "    'RIGHT_SHOULDER':6,\n",
    "    'LEFT_ELBOW': 7,\n",
    "    'RIGHT_ELBOW': 8,\n",
    "    'LEFT_WRIST': 9,\n",
    "    'RIGHT_WRIST': 10,\n",
    "    'LEFT_HIP': 11,\n",
    "    'RIGHT_HIP': 12,\n",
    "    'LEFT_KNEE': 13,\n",
    "    'RIGHT_KNEE': 14,\n",
    "    'LEFT_ANKLE': 15,\n",
    "    'RIGHT_ANKLE': 16,\n",
    "}"
   ],
   "metadata": {
    "collapsed": false,
    "ExecuteTime": {
     "end_time": "2023-09-22T19:02:47.928210924Z",
     "start_time": "2023-09-22T19:02:47.905295855Z"
    }
   }
  },
  {
   "cell_type": "code",
   "execution_count": 17,
   "outputs": [],
   "source": [
    "MODEL_SLUG = '60_yolov8m_best'"
   ],
   "metadata": {
    "collapsed": false,
    "ExecuteTime": {
     "end_time": "2023-09-22T19:02:57.396760336Z",
     "start_time": "2023-09-22T19:02:57.392332973Z"
    }
   }
  },
  {
   "cell_type": "code",
   "execution_count": 18,
   "outputs": [],
   "source": [
    "OUT_PATH = f'result/model_output_video_{MODEL_SLUG}.avi' # your video path for saving\n",
    "DATA_PATH = 'Анализ бригад (телефон)/Есть телефон/00_26_30.mp4' # your video path for processing\n",
    "SAVE_IMG_PATH = 'result'"
   ],
   "metadata": {
    "collapsed": false,
    "ExecuteTime": {
     "end_time": "2023-09-22T19:02:57.696981162Z",
     "start_time": "2023-09-22T19:02:57.690774015Z"
    }
   }
  },
  {
   "cell_type": "code",
   "execution_count": 19,
   "outputs": [],
   "source": [
    "model = AttentionModel(f'models/{MODEL_SLUG}.pt')\n",
    "model.load_models()"
   ],
   "metadata": {
    "collapsed": false,
    "ExecuteTime": {
     "end_time": "2023-09-22T19:02:58.328420090Z",
     "start_time": "2023-09-22T19:02:58.164486981Z"
    }
   }
  },
  {
   "cell_type": "code",
   "execution_count": 20,
   "outputs": [
    {
     "data": {
      "text/plain": "Empty DataFrame\nColumns: [Frame_id, Time, Position]\nIndex: []",
      "text/html": "<div>\n<style scoped>\n    .dataframe tbody tr th:only-of-type {\n        vertical-align: middle;\n    }\n\n    .dataframe tbody tr th {\n        vertical-align: top;\n    }\n\n    .dataframe thead th {\n        text-align: right;\n    }\n</style>\n<table border=\"1\" class=\"dataframe\">\n  <thead>\n    <tr style=\"text-align: right;\">\n      <th></th>\n      <th>Frame_id</th>\n      <th>Time</th>\n      <th>Position</th>\n    </tr>\n  </thead>\n  <tbody>\n  </tbody>\n</table>\n</div>"
     },
     "execution_count": 20,
     "metadata": {},
     "output_type": "execute_result"
    }
   ],
   "source": [
    "model.detected_data"
   ],
   "metadata": {
    "collapsed": false,
    "ExecuteTime": {
     "end_time": "2023-09-22T19:02:59.482539224Z",
     "start_time": "2023-09-22T19:02:59.475867870Z"
    }
   }
  },
  {
   "cell_type": "code",
   "execution_count": null,
   "outputs": [
    {
     "name": "stderr",
     "output_type": "stream",
     "text": [
      " 26%|██▋       | 1375/5196 [02:06<05:42, 11.14it/s]"
     ]
    }
   ],
   "source": [
    "model.process_video(DATA_PATH, OUT_PATH, pos_estimation=True, detection=True, save=True)"
   ],
   "metadata": {
    "collapsed": false,
    "is_executing": true,
    "ExecuteTime": {
     "start_time": "2023-09-22T19:06:01.682444711Z"
    }
   }
  },
  {
   "cell_type": "code",
   "execution_count": 24,
   "outputs": [
    {
     "data": {
      "text/plain": "     0         1  2                                                  3\n0    1  0.083333  2  [[[1002.46533203125, 663.6934814453125], [989....\n1    2  0.166667  2  [[[1013.07177734375, 678.38623046875], [996.08...\n2    3  0.250000  2  [[[1033.189697265625, 691.5792236328125], [101...\n3    4  0.333333  2  [[[1020.4559326171875, 678.0460205078125], [10...\n4    5  0.416667  2  [[[1015.8204345703125, 672.3037719726562], [99...\n5    6  0.500000  2  [[[1021.3914794921875, 670.3060302734375], [10...\n6    7  0.583333  2  [[[1022.5838623046875, 673.1045532226562], [10...\n7    8  0.666667  2  [[[1022.0577392578125, 676.2551879882812], [10...\n8    9  0.750000  2  [[[1028.499267578125, 688.089599609375], [1007...\n9   10  0.833333  3  [[[1028.941650390625, 692.9158935546875], [100...\n10  11  0.916667  2  [[[1030.2022705078125, 697.0115966796875], [10...\n11  12  1.000000  2  [[[1032.22314453125, 692.2611694335938], [1009...\n12  13  1.083333  2  [[[1028.1163330078125, 689.2398681640625], [10...\n13  14  1.166667  2  [[[1021.2734375, 686.189208984375], [1002.4528...\n14  15  1.250000  2  [[[1021.39208984375, 684.8624877929688], [1002...\n15  16  1.333333  2  [[[1024.1046142578125, 682.8555908203125], [10...\n16   1  0.083333  2  [[[1002.46533203125, 663.6934814453125], [989....\n17   2  0.166667  2  [[[1013.07177734375, 678.38623046875], [996.08...\n18   3  0.250000  2  [[[1033.189697265625, 691.5792236328125], [101...\n19   4  0.333333  2  [[[1020.4559326171875, 678.0460205078125], [10...\n20   5  0.416667  2  [[[1015.8204345703125, 672.3037719726562], [99...\n21   6  0.500000  2  [[[1021.3914794921875, 670.3060302734375], [10...\n22   7  0.583333  2  [[[1022.5838623046875, 673.1045532226562], [10...\n23   8  0.666667  2  [[[1022.0577392578125, 676.2551879882812], [10...\n24   9  0.750000  2  [[[1028.499267578125, 688.089599609375], [1007...\n25  10  0.833333  3  [[[1028.941650390625, 692.9158935546875], [100...\n26  11  0.916667  2  [[[1030.2022705078125, 697.0115966796875], [10...\n27  12  1.000000  2  [[[1032.22314453125, 692.2611694335938], [1009...\n28  13  1.083333  2  [[[1028.1163330078125, 689.2398681640625], [10...\n29  14  1.166667  2  [[[1021.2734375, 686.189208984375], [1002.4528...\n30  15  1.250000  2  [[[1021.39208984375, 684.8624877929688], [1002...\n31  16  1.333333  2  [[[1024.1046142578125, 682.8555908203125], [10...\n32  17  1.416667  2  [[[1020.9061889648438, 680.052490234375], [100...\n33  18  1.500000  2  [[[1023.53857421875, 679.5354614257812], [1003...\n34  19  1.583333  2  [[[1027.3924560546875, 690.552490234375], [100...\n35  20  1.666667  2  [[[1026.141845703125, 690.2351684570312], [100...\n36  21  1.750000  2  [[[1037.862060546875, 693.511474609375], [1014...\n37  22  1.833333  2  [[[1042.69384765625, 693.758544921875], [1018....\n38  23  1.916667  2  [[[1038.125732421875, 690.8599243164062], [101...\n39  24  2.000000  2  [[[1047.541015625, 700.1279296875], [1021.2703...\n40  25  2.083333  2  [[[1044.9915771484375, 696.2420043945312], [10...\n41  26  2.166667  2  [[[1049.6654052734375, 707.9732055664062], [10...\n42  27  2.250000  2  [[[1035.09228515625, 705.4356689453125], [1013...\n43  28  2.333333  2  [[[1051.172119140625, 707.30908203125], [1023....\n44  29  2.416667  2  [[[1046.7994384765625, 706.45654296875], [1021...\n45  30  2.500000  2  [[[1051.642578125, 710.402099609375], [1024.94...\n46  31  2.583333  2  [[[1036.800048828125, 686.156005859375], [1013...\n47  32  2.666667  2  [[[1049.4276123046875, 706.5859985351562], [10...\n48  33  2.750000  2  [[[1036.56884765625, 696.0850830078125], [1012...\n49  34  2.833333  2  [[[1033.69580078125, 693.9130859375], [1011.06...\n50  35  2.916667  2  [[[1018.65478515625, 681.3023071289062], [1000...\n51  36  3.000000  2  [[[1032.0291748046875, 690.7857666015625], [10...\n52  37  3.083333  2  [[[1039.76220703125, 693.303466796875], [1015....\n53  38  3.166667  2  [[[1033.4146728515625, 690.6253051757812], [10...\n54  39  3.250000  2  [[[1035.287353515625, 691.3027954101562], [101...\n55  40  3.333333  2  [[[1034.9195556640625, 686.9452514648438], [10...\n56  41  3.416667  2  [[[1032.11376953125, 690.2891845703125], [1010...\n57  42  3.500000  2  [[[1038.65087890625, 696.1192626953125], [1015...\n58  43  3.583333  2  [[[1027.201904296875, 687.9384765625], [1006.5...\n59  44  3.666667  2  [[[1025.41748046875, 688.5732421875], [1005.10...",
      "text/html": "<div>\n<style scoped>\n    .dataframe tbody tr th:only-of-type {\n        vertical-align: middle;\n    }\n\n    .dataframe tbody tr th {\n        vertical-align: top;\n    }\n\n    .dataframe thead th {\n        text-align: right;\n    }\n</style>\n<table border=\"1\" class=\"dataframe\">\n  <thead>\n    <tr style=\"text-align: right;\">\n      <th></th>\n      <th>0</th>\n      <th>1</th>\n      <th>2</th>\n      <th>3</th>\n    </tr>\n  </thead>\n  <tbody>\n    <tr>\n      <th>0</th>\n      <td>1</td>\n      <td>0.083333</td>\n      <td>2</td>\n      <td>[[[1002.46533203125, 663.6934814453125], [989....</td>\n    </tr>\n    <tr>\n      <th>1</th>\n      <td>2</td>\n      <td>0.166667</td>\n      <td>2</td>\n      <td>[[[1013.07177734375, 678.38623046875], [996.08...</td>\n    </tr>\n    <tr>\n      <th>2</th>\n      <td>3</td>\n      <td>0.250000</td>\n      <td>2</td>\n      <td>[[[1033.189697265625, 691.5792236328125], [101...</td>\n    </tr>\n    <tr>\n      <th>3</th>\n      <td>4</td>\n      <td>0.333333</td>\n      <td>2</td>\n      <td>[[[1020.4559326171875, 678.0460205078125], [10...</td>\n    </tr>\n    <tr>\n      <th>4</th>\n      <td>5</td>\n      <td>0.416667</td>\n      <td>2</td>\n      <td>[[[1015.8204345703125, 672.3037719726562], [99...</td>\n    </tr>\n    <tr>\n      <th>5</th>\n      <td>6</td>\n      <td>0.500000</td>\n      <td>2</td>\n      <td>[[[1021.3914794921875, 670.3060302734375], [10...</td>\n    </tr>\n    <tr>\n      <th>6</th>\n      <td>7</td>\n      <td>0.583333</td>\n      <td>2</td>\n      <td>[[[1022.5838623046875, 673.1045532226562], [10...</td>\n    </tr>\n    <tr>\n      <th>7</th>\n      <td>8</td>\n      <td>0.666667</td>\n      <td>2</td>\n      <td>[[[1022.0577392578125, 676.2551879882812], [10...</td>\n    </tr>\n    <tr>\n      <th>8</th>\n      <td>9</td>\n      <td>0.750000</td>\n      <td>2</td>\n      <td>[[[1028.499267578125, 688.089599609375], [1007...</td>\n    </tr>\n    <tr>\n      <th>9</th>\n      <td>10</td>\n      <td>0.833333</td>\n      <td>3</td>\n      <td>[[[1028.941650390625, 692.9158935546875], [100...</td>\n    </tr>\n    <tr>\n      <th>10</th>\n      <td>11</td>\n      <td>0.916667</td>\n      <td>2</td>\n      <td>[[[1030.2022705078125, 697.0115966796875], [10...</td>\n    </tr>\n    <tr>\n      <th>11</th>\n      <td>12</td>\n      <td>1.000000</td>\n      <td>2</td>\n      <td>[[[1032.22314453125, 692.2611694335938], [1009...</td>\n    </tr>\n    <tr>\n      <th>12</th>\n      <td>13</td>\n      <td>1.083333</td>\n      <td>2</td>\n      <td>[[[1028.1163330078125, 689.2398681640625], [10...</td>\n    </tr>\n    <tr>\n      <th>13</th>\n      <td>14</td>\n      <td>1.166667</td>\n      <td>2</td>\n      <td>[[[1021.2734375, 686.189208984375], [1002.4528...</td>\n    </tr>\n    <tr>\n      <th>14</th>\n      <td>15</td>\n      <td>1.250000</td>\n      <td>2</td>\n      <td>[[[1021.39208984375, 684.8624877929688], [1002...</td>\n    </tr>\n    <tr>\n      <th>15</th>\n      <td>16</td>\n      <td>1.333333</td>\n      <td>2</td>\n      <td>[[[1024.1046142578125, 682.8555908203125], [10...</td>\n    </tr>\n    <tr>\n      <th>16</th>\n      <td>1</td>\n      <td>0.083333</td>\n      <td>2</td>\n      <td>[[[1002.46533203125, 663.6934814453125], [989....</td>\n    </tr>\n    <tr>\n      <th>17</th>\n      <td>2</td>\n      <td>0.166667</td>\n      <td>2</td>\n      <td>[[[1013.07177734375, 678.38623046875], [996.08...</td>\n    </tr>\n    <tr>\n      <th>18</th>\n      <td>3</td>\n      <td>0.250000</td>\n      <td>2</td>\n      <td>[[[1033.189697265625, 691.5792236328125], [101...</td>\n    </tr>\n    <tr>\n      <th>19</th>\n      <td>4</td>\n      <td>0.333333</td>\n      <td>2</td>\n      <td>[[[1020.4559326171875, 678.0460205078125], [10...</td>\n    </tr>\n    <tr>\n      <th>20</th>\n      <td>5</td>\n      <td>0.416667</td>\n      <td>2</td>\n      <td>[[[1015.8204345703125, 672.3037719726562], [99...</td>\n    </tr>\n    <tr>\n      <th>21</th>\n      <td>6</td>\n      <td>0.500000</td>\n      <td>2</td>\n      <td>[[[1021.3914794921875, 670.3060302734375], [10...</td>\n    </tr>\n    <tr>\n      <th>22</th>\n      <td>7</td>\n      <td>0.583333</td>\n      <td>2</td>\n      <td>[[[1022.5838623046875, 673.1045532226562], [10...</td>\n    </tr>\n    <tr>\n      <th>23</th>\n      <td>8</td>\n      <td>0.666667</td>\n      <td>2</td>\n      <td>[[[1022.0577392578125, 676.2551879882812], [10...</td>\n    </tr>\n    <tr>\n      <th>24</th>\n      <td>9</td>\n      <td>0.750000</td>\n      <td>2</td>\n      <td>[[[1028.499267578125, 688.089599609375], [1007...</td>\n    </tr>\n    <tr>\n      <th>25</th>\n      <td>10</td>\n      <td>0.833333</td>\n      <td>3</td>\n      <td>[[[1028.941650390625, 692.9158935546875], [100...</td>\n    </tr>\n    <tr>\n      <th>26</th>\n      <td>11</td>\n      <td>0.916667</td>\n      <td>2</td>\n      <td>[[[1030.2022705078125, 697.0115966796875], [10...</td>\n    </tr>\n    <tr>\n      <th>27</th>\n      <td>12</td>\n      <td>1.000000</td>\n      <td>2</td>\n      <td>[[[1032.22314453125, 692.2611694335938], [1009...</td>\n    </tr>\n    <tr>\n      <th>28</th>\n      <td>13</td>\n      <td>1.083333</td>\n      <td>2</td>\n      <td>[[[1028.1163330078125, 689.2398681640625], [10...</td>\n    </tr>\n    <tr>\n      <th>29</th>\n      <td>14</td>\n      <td>1.166667</td>\n      <td>2</td>\n      <td>[[[1021.2734375, 686.189208984375], [1002.4528...</td>\n    </tr>\n    <tr>\n      <th>30</th>\n      <td>15</td>\n      <td>1.250000</td>\n      <td>2</td>\n      <td>[[[1021.39208984375, 684.8624877929688], [1002...</td>\n    </tr>\n    <tr>\n      <th>31</th>\n      <td>16</td>\n      <td>1.333333</td>\n      <td>2</td>\n      <td>[[[1024.1046142578125, 682.8555908203125], [10...</td>\n    </tr>\n    <tr>\n      <th>32</th>\n      <td>17</td>\n      <td>1.416667</td>\n      <td>2</td>\n      <td>[[[1020.9061889648438, 680.052490234375], [100...</td>\n    </tr>\n    <tr>\n      <th>33</th>\n      <td>18</td>\n      <td>1.500000</td>\n      <td>2</td>\n      <td>[[[1023.53857421875, 679.5354614257812], [1003...</td>\n    </tr>\n    <tr>\n      <th>34</th>\n      <td>19</td>\n      <td>1.583333</td>\n      <td>2</td>\n      <td>[[[1027.3924560546875, 690.552490234375], [100...</td>\n    </tr>\n    <tr>\n      <th>35</th>\n      <td>20</td>\n      <td>1.666667</td>\n      <td>2</td>\n      <td>[[[1026.141845703125, 690.2351684570312], [100...</td>\n    </tr>\n    <tr>\n      <th>36</th>\n      <td>21</td>\n      <td>1.750000</td>\n      <td>2</td>\n      <td>[[[1037.862060546875, 693.511474609375], [1014...</td>\n    </tr>\n    <tr>\n      <th>37</th>\n      <td>22</td>\n      <td>1.833333</td>\n      <td>2</td>\n      <td>[[[1042.69384765625, 693.758544921875], [1018....</td>\n    </tr>\n    <tr>\n      <th>38</th>\n      <td>23</td>\n      <td>1.916667</td>\n      <td>2</td>\n      <td>[[[1038.125732421875, 690.8599243164062], [101...</td>\n    </tr>\n    <tr>\n      <th>39</th>\n      <td>24</td>\n      <td>2.000000</td>\n      <td>2</td>\n      <td>[[[1047.541015625, 700.1279296875], [1021.2703...</td>\n    </tr>\n    <tr>\n      <th>40</th>\n      <td>25</td>\n      <td>2.083333</td>\n      <td>2</td>\n      <td>[[[1044.9915771484375, 696.2420043945312], [10...</td>\n    </tr>\n    <tr>\n      <th>41</th>\n      <td>26</td>\n      <td>2.166667</td>\n      <td>2</td>\n      <td>[[[1049.6654052734375, 707.9732055664062], [10...</td>\n    </tr>\n    <tr>\n      <th>42</th>\n      <td>27</td>\n      <td>2.250000</td>\n      <td>2</td>\n      <td>[[[1035.09228515625, 705.4356689453125], [1013...</td>\n    </tr>\n    <tr>\n      <th>43</th>\n      <td>28</td>\n      <td>2.333333</td>\n      <td>2</td>\n      <td>[[[1051.172119140625, 707.30908203125], [1023....</td>\n    </tr>\n    <tr>\n      <th>44</th>\n      <td>29</td>\n      <td>2.416667</td>\n      <td>2</td>\n      <td>[[[1046.7994384765625, 706.45654296875], [1021...</td>\n    </tr>\n    <tr>\n      <th>45</th>\n      <td>30</td>\n      <td>2.500000</td>\n      <td>2</td>\n      <td>[[[1051.642578125, 710.402099609375], [1024.94...</td>\n    </tr>\n    <tr>\n      <th>46</th>\n      <td>31</td>\n      <td>2.583333</td>\n      <td>2</td>\n      <td>[[[1036.800048828125, 686.156005859375], [1013...</td>\n    </tr>\n    <tr>\n      <th>47</th>\n      <td>32</td>\n      <td>2.666667</td>\n      <td>2</td>\n      <td>[[[1049.4276123046875, 706.5859985351562], [10...</td>\n    </tr>\n    <tr>\n      <th>48</th>\n      <td>33</td>\n      <td>2.750000</td>\n      <td>2</td>\n      <td>[[[1036.56884765625, 696.0850830078125], [1012...</td>\n    </tr>\n    <tr>\n      <th>49</th>\n      <td>34</td>\n      <td>2.833333</td>\n      <td>2</td>\n      <td>[[[1033.69580078125, 693.9130859375], [1011.06...</td>\n    </tr>\n    <tr>\n      <th>50</th>\n      <td>35</td>\n      <td>2.916667</td>\n      <td>2</td>\n      <td>[[[1018.65478515625, 681.3023071289062], [1000...</td>\n    </tr>\n    <tr>\n      <th>51</th>\n      <td>36</td>\n      <td>3.000000</td>\n      <td>2</td>\n      <td>[[[1032.0291748046875, 690.7857666015625], [10...</td>\n    </tr>\n    <tr>\n      <th>52</th>\n      <td>37</td>\n      <td>3.083333</td>\n      <td>2</td>\n      <td>[[[1039.76220703125, 693.303466796875], [1015....</td>\n    </tr>\n    <tr>\n      <th>53</th>\n      <td>38</td>\n      <td>3.166667</td>\n      <td>2</td>\n      <td>[[[1033.4146728515625, 690.6253051757812], [10...</td>\n    </tr>\n    <tr>\n      <th>54</th>\n      <td>39</td>\n      <td>3.250000</td>\n      <td>2</td>\n      <td>[[[1035.287353515625, 691.3027954101562], [101...</td>\n    </tr>\n    <tr>\n      <th>55</th>\n      <td>40</td>\n      <td>3.333333</td>\n      <td>2</td>\n      <td>[[[1034.9195556640625, 686.9452514648438], [10...</td>\n    </tr>\n    <tr>\n      <th>56</th>\n      <td>41</td>\n      <td>3.416667</td>\n      <td>2</td>\n      <td>[[[1032.11376953125, 690.2891845703125], [1010...</td>\n    </tr>\n    <tr>\n      <th>57</th>\n      <td>42</td>\n      <td>3.500000</td>\n      <td>2</td>\n      <td>[[[1038.65087890625, 696.1192626953125], [1015...</td>\n    </tr>\n    <tr>\n      <th>58</th>\n      <td>43</td>\n      <td>3.583333</td>\n      <td>2</td>\n      <td>[[[1027.201904296875, 687.9384765625], [1006.5...</td>\n    </tr>\n    <tr>\n      <th>59</th>\n      <td>44</td>\n      <td>3.666667</td>\n      <td>2</td>\n      <td>[[[1025.41748046875, 688.5732421875], [1005.10...</td>\n    </tr>\n  </tbody>\n</table>\n</div>"
     },
     "execution_count": 24,
     "metadata": {},
     "output_type": "execute_result"
    }
   ],
   "source": [
    "import pandas as pd\n",
    "\n",
    "pd.DataFrame(model.pos_est_values)"
   ],
   "metadata": {
    "collapsed": false,
    "ExecuteTime": {
     "end_time": "2023-09-22T19:05:52.273328879Z",
     "start_time": "2023-09-22T19:05:52.034843304Z"
    }
   }
  },
  {
   "cell_type": "code",
   "execution_count": null,
   "outputs": [],
   "source": [
    "import pandas as pd\n",
    "\n",
    "pos_est_data = pd.DataFrame(model.pos_est_values, columns=['Frame_id', 'Time', *model.keypoints])\n",
    "pos_est_data"
   ],
   "metadata": {
    "collapsed": false,
    "ExecuteTime": {
     "start_time": "2023-09-22T19:02:51.110094125Z"
    }
   }
  },
  {
   "cell_type": "code",
   "execution_count": null,
   "outputs": [],
   "source": [
    "pos_est_data"
   ],
   "metadata": {
    "collapsed": false,
    "ExecuteTime": {
     "start_time": "2023-09-22T19:02:51.110277744Z"
    }
   }
  },
  {
   "cell_type": "code",
   "execution_count": null,
   "outputs": [],
   "source": [
    "model.pos_est_data.head(10)"
   ],
   "metadata": {
    "collapsed": false,
    "ExecuteTime": {
     "start_time": "2023-09-22T19:02:51.110388508Z"
    }
   }
  },
  {
   "cell_type": "code",
   "execution_count": null,
   "outputs": [],
   "source": [
    "model.pos_est_data.info()"
   ],
   "metadata": {
    "collapsed": false,
    "ExecuteTime": {
     "start_time": "2023-09-22T19:02:51.110491752Z"
    }
   }
  },
  {
   "cell_type": "code",
   "execution_count": null,
   "outputs": [],
   "source": [
    "from ultralytics import YOLO\n",
    "\n",
    "model = YOLO('models/yolov8x-pose.pt').to('cuda')\n",
    "result = model.predict(DATA_PATH, stream=True, save=True)"
   ],
   "metadata": {
    "collapsed": false,
    "ExecuteTime": {
     "start_time": "2023-09-22T19:02:51.110620914Z"
    }
   }
  },
  {
   "cell_type": "code",
   "execution_count": null,
   "outputs": [],
   "source": [
    "model('result/model_output_video.avi')"
   ],
   "metadata": {
    "collapsed": false,
    "ExecuteTime": {
     "start_time": "2023-09-22T19:02:51.110683535Z"
    }
   }
  },
  {
   "cell_type": "code",
   "execution_count": null,
   "outputs": [],
   "source": [
    "model.pos_est_data.to_csv('result/pos_est_data.csv', index=0)"
   ],
   "metadata": {
    "collapsed": false,
    "ExecuteTime": {
     "start_time": "2023-09-22T19:02:51.110750893Z"
    }
   }
  },
  {
   "cell_type": "markdown",
   "source": [],
   "metadata": {
    "collapsed": false
   }
  },
  {
   "cell_type": "code",
   "execution_count": null,
   "outputs": [],
   "source": [
    "model.detected_data.to_csv('result/detected_data.csv', index=0)"
   ],
   "metadata": {
    "collapsed": false,
    "ExecuteTime": {
     "start_time": "2023-09-22T19:02:51.110812733Z"
    }
   }
  }
 ],
 "metadata": {
  "kernelspec": {
   "display_name": "Python 3",
   "language": "python",
   "name": "python3"
  },
  "language_info": {
   "codemirror_mode": {
    "name": "ipython",
    "version": 2
   },
   "file_extension": ".py",
   "mimetype": "text/x-python",
   "name": "python",
   "nbconvert_exporter": "python",
   "pygments_lexer": "ipython2",
   "version": "2.7.6"
  }
 },
 "nbformat": 4,
 "nbformat_minor": 0
}
