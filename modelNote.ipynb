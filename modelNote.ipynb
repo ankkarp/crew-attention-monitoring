{
 "cells": [
  {
   "cell_type": "code",
   "execution_count": 16,
   "metadata": {
    "collapsed": true,
    "ExecuteTime": {
     "end_time": "2023-09-22T19:02:54.749928504Z",
     "start_time": "2023-09-22T19:02:54.707586567Z"
    }
   },
   "outputs": [],
   "source": [
    "from model import AttentionModel"
   ]
  },
  {
   "cell_type": "code",
   "execution_count": 10,
   "outputs": [],
   "source": [
    "keyPoints = {\n",
    "    'NOSE': 0,\n",
    "    'LEFT_EYE': 1,\n",
    "    'RIGHT_EYE': 2,\n",
    "    'LEFT_EAR':3,\n",
    "    'RIGHT_EAR': 4,\n",
    "    'LEFT_SHOULDER': 5,\n",
    "    'RIGHT_SHOULDER':6,\n",
    "    'LEFT_ELBOW': 7,\n",
    "    'RIGHT_ELBOW': 8,\n",
    "    'LEFT_WRIST': 9,\n",
    "    'RIGHT_WRIST': 10,\n",
    "    'LEFT_HIP': 11,\n",
    "    'RIGHT_HIP': 12,\n",
    "    'LEFT_KNEE': 13,\n",
    "    'RIGHT_KNEE': 14,\n",
    "    'LEFT_ANKLE': 15,\n",
    "    'RIGHT_ANKLE': 16,\n",
    "}"
   ],
   "metadata": {
    "collapsed": false,
    "ExecuteTime": {
     "end_time": "2023-09-22T19:02:47.928210924Z",
     "start_time": "2023-09-22T19:02:47.905295855Z"
    }
   }
  },
  {
   "cell_type": "code",
   "execution_count": 17,
   "outputs": [],
   "source": [
    "MODEL_SLUG = '60_yolov8m_best'"
   ],
   "metadata": {
    "collapsed": false,
    "ExecuteTime": {
     "end_time": "2023-09-22T19:02:57.396760336Z",
     "start_time": "2023-09-22T19:02:57.392332973Z"
    }
   }
  },
  {
   "cell_type": "code",
   "execution_count": 18,
   "outputs": [],
   "source": [
    "OUT_PATH = f'result/model_output_video_{MODEL_SLUG}.avi' # your video path for saving\n",
    "DATA_PATH = 'Анализ бригад (телефон)/Есть телефон/00_26_30.mp4' # your video path for processing\n",
    "SAVE_IMG_PATH = 'result'"
   ],
   "metadata": {
    "collapsed": false,
    "ExecuteTime": {
     "end_time": "2023-09-22T19:02:57.696981162Z",
     "start_time": "2023-09-22T19:02:57.690774015Z"
    }
   }
  },
  {
   "cell_type": "code",
   "execution_count": 19,
   "outputs": [],
   "source": [
    "model = AttentionModel(f'models/{MODEL_SLUG}.pt')\n",
    "model.load_models()"
   ],
   "metadata": {
    "collapsed": false,
    "ExecuteTime": {
     "end_time": "2023-09-22T19:02:58.328420090Z",
     "start_time": "2023-09-22T19:02:58.164486981Z"
    }
   }
  },
  {
   "cell_type": "code",
   "execution_count": 20,
   "outputs": [
    {
     "data": {
      "text/plain": "Empty DataFrame\nColumns: [Frame_id, Time, Position]\nIndex: []",
      "text/html": "<div>\n<style scoped>\n    .dataframe tbody tr th:only-of-type {\n        vertical-align: middle;\n    }\n\n    .dataframe tbody tr th {\n        vertical-align: top;\n    }\n\n    .dataframe thead th {\n        text-align: right;\n    }\n</style>\n<table border=\"1\" class=\"dataframe\">\n  <thead>\n    <tr style=\"text-align: right;\">\n      <th></th>\n      <th>Frame_id</th>\n      <th>Time</th>\n      <th>Position</th>\n    </tr>\n  </thead>\n  <tbody>\n  </tbody>\n</table>\n</div>"
     },
     "execution_count": 20,
     "metadata": {},
     "output_type": "execute_result"
    }
   ],
   "source": [
    "model.detected_data"
   ],
   "metadata": {
    "collapsed": false,
    "ExecuteTime": {
     "end_time": "2023-09-22T19:02:59.482539224Z",
     "start_time": "2023-09-22T19:02:59.475867870Z"
    }
   }
  },
  {
   "cell_type": "code",
   "execution_count": 25,
   "outputs": [
    {
     "name": "stderr",
     "output_type": "stream",
     "text": [
      "100%|██████████| 5196/5196 [07:53<00:00, 10.97it/s]"
     ]
    },
    {
     "name": "stdout",
     "output_type": "stream",
     "text": [
      "Time: 473.8496880531311\n"
     ]
    },
    {
     "name": "stderr",
     "output_type": "stream",
     "text": [
      "\n"
     ]
    }
   ],
   "source": [
    "model.process_video(DATA_PATH, OUT_PATH, pos_estimation=True, detection=True, save=True)"
   ],
   "metadata": {
    "collapsed": false,
    "ExecuteTime": {
     "end_time": "2023-09-22T19:13:55.613739113Z",
     "start_time": "2023-09-22T19:06:01.682444711Z"
    }
   }
  },
  {
   "cell_type": "code",
   "execution_count": 41,
   "outputs": [],
   "source": [
    "dropeddf  = model.pos_est_data.drop_duplicates(subset=['Frame_id', 'Time', \"People_count\"])"
   ],
   "metadata": {
    "collapsed": false,
    "ExecuteTime": {
     "end_time": "2023-09-22T19:27:46.458031336Z",
     "start_time": "2023-09-22T19:27:46.449469346Z"
    }
   }
  },
  {
   "cell_type": "code",
   "execution_count": 42,
   "outputs": [
    {
     "data": {
      "text/plain": "5196"
     },
     "execution_count": 42,
     "metadata": {},
     "output_type": "execute_result"
    }
   ],
   "source": [
    "len(dropeddf)"
   ],
   "metadata": {
    "collapsed": false,
    "ExecuteTime": {
     "end_time": "2023-09-22T19:27:47.079189865Z",
     "start_time": "2023-09-22T19:27:47.076718719Z"
    }
   }
  },
  {
   "cell_type": "code",
   "execution_count": 43,
   "outputs": [
    {
     "data": {
      "text/plain": "   Frame_id      Time  People_count  \\\n0         1  0.083333             2   \n1         2  0.166667             2   \n2         3  0.250000             2   \n3         4  0.333333             2   \n4         5  0.416667             2   \n5         6  0.500000             2   \n6         7  0.583333             2   \n7         8  0.666667             2   \n8         9  0.750000             2   \n9        10  0.833333             3   \n\n                                           KeyPoints  \n0  [[[1002.46533203125, 663.6934814453125], [989....  \n1  [[[1013.07177734375, 678.38623046875], [996.08...  \n2  [[[1033.189697265625, 691.5792236328125], [101...  \n3  [[[1020.4559326171875, 678.0460205078125], [10...  \n4  [[[1015.8204345703125, 672.3037719726562], [99...  \n5  [[[1021.3914794921875, 670.3060302734375], [10...  \n6  [[[1022.5838623046875, 673.1045532226562], [10...  \n7  [[[1022.0577392578125, 676.2551879882812], [10...  \n8  [[[1028.499267578125, 688.089599609375], [1007...  \n9  [[[1028.941650390625, 692.9158935546875], [100...  ",
      "text/html": "<div>\n<style scoped>\n    .dataframe tbody tr th:only-of-type {\n        vertical-align: middle;\n    }\n\n    .dataframe tbody tr th {\n        vertical-align: top;\n    }\n\n    .dataframe thead th {\n        text-align: right;\n    }\n</style>\n<table border=\"1\" class=\"dataframe\">\n  <thead>\n    <tr style=\"text-align: right;\">\n      <th></th>\n      <th>Frame_id</th>\n      <th>Time</th>\n      <th>People_count</th>\n      <th>KeyPoints</th>\n    </tr>\n  </thead>\n  <tbody>\n    <tr>\n      <th>0</th>\n      <td>1</td>\n      <td>0.083333</td>\n      <td>2</td>\n      <td>[[[1002.46533203125, 663.6934814453125], [989....</td>\n    </tr>\n    <tr>\n      <th>1</th>\n      <td>2</td>\n      <td>0.166667</td>\n      <td>2</td>\n      <td>[[[1013.07177734375, 678.38623046875], [996.08...</td>\n    </tr>\n    <tr>\n      <th>2</th>\n      <td>3</td>\n      <td>0.250000</td>\n      <td>2</td>\n      <td>[[[1033.189697265625, 691.5792236328125], [101...</td>\n    </tr>\n    <tr>\n      <th>3</th>\n      <td>4</td>\n      <td>0.333333</td>\n      <td>2</td>\n      <td>[[[1020.4559326171875, 678.0460205078125], [10...</td>\n    </tr>\n    <tr>\n      <th>4</th>\n      <td>5</td>\n      <td>0.416667</td>\n      <td>2</td>\n      <td>[[[1015.8204345703125, 672.3037719726562], [99...</td>\n    </tr>\n    <tr>\n      <th>5</th>\n      <td>6</td>\n      <td>0.500000</td>\n      <td>2</td>\n      <td>[[[1021.3914794921875, 670.3060302734375], [10...</td>\n    </tr>\n    <tr>\n      <th>6</th>\n      <td>7</td>\n      <td>0.583333</td>\n      <td>2</td>\n      <td>[[[1022.5838623046875, 673.1045532226562], [10...</td>\n    </tr>\n    <tr>\n      <th>7</th>\n      <td>8</td>\n      <td>0.666667</td>\n      <td>2</td>\n      <td>[[[1022.0577392578125, 676.2551879882812], [10...</td>\n    </tr>\n    <tr>\n      <th>8</th>\n      <td>9</td>\n      <td>0.750000</td>\n      <td>2</td>\n      <td>[[[1028.499267578125, 688.089599609375], [1007...</td>\n    </tr>\n    <tr>\n      <th>9</th>\n      <td>10</td>\n      <td>0.833333</td>\n      <td>3</td>\n      <td>[[[1028.941650390625, 692.9158935546875], [100...</td>\n    </tr>\n  </tbody>\n</table>\n</div>"
     },
     "execution_count": 43,
     "metadata": {},
     "output_type": "execute_result"
    }
   ],
   "source": [
    "dropeddf.head(10)"
   ],
   "metadata": {
    "collapsed": false,
    "ExecuteTime": {
     "end_time": "2023-09-22T19:27:48.520711967Z",
     "start_time": "2023-09-22T19:27:48.479286974Z"
    }
   }
  },
  {
   "cell_type": "code",
   "execution_count": 48,
   "outputs": [
    {
     "data": {
      "text/plain": "      Frame_id        Time                                           Position\n1918      5075  422.916667  {'cell phones': [[411.7886, 158.0409, 514.842,...\n1919      5107  425.583333  {'cell phones': [[414.74863, 155.55887, 514.50...\n1920      5160  430.000000  {'cell phones': [[1877.963, 420.0927, 1917.593...\n1921      5165  430.416667  {'cell phones': [[1880.9401, 418.65982, 1917.8...\n1922      5166  430.500000  {'cell phones': [[1879.9912, 418.1053, 1917.86...",
      "text/html": "<div>\n<style scoped>\n    .dataframe tbody tr th:only-of-type {\n        vertical-align: middle;\n    }\n\n    .dataframe tbody tr th {\n        vertical-align: top;\n    }\n\n    .dataframe thead th {\n        text-align: right;\n    }\n</style>\n<table border=\"1\" class=\"dataframe\">\n  <thead>\n    <tr style=\"text-align: right;\">\n      <th></th>\n      <th>Frame_id</th>\n      <th>Time</th>\n      <th>Position</th>\n    </tr>\n  </thead>\n  <tbody>\n    <tr>\n      <th>1918</th>\n      <td>5075</td>\n      <td>422.916667</td>\n      <td>{'cell phones': [[411.7886, 158.0409, 514.842,...</td>\n    </tr>\n    <tr>\n      <th>1919</th>\n      <td>5107</td>\n      <td>425.583333</td>\n      <td>{'cell phones': [[414.74863, 155.55887, 514.50...</td>\n    </tr>\n    <tr>\n      <th>1920</th>\n      <td>5160</td>\n      <td>430.000000</td>\n      <td>{'cell phones': [[1877.963, 420.0927, 1917.593...</td>\n    </tr>\n    <tr>\n      <th>1921</th>\n      <td>5165</td>\n      <td>430.416667</td>\n      <td>{'cell phones': [[1880.9401, 418.65982, 1917.8...</td>\n    </tr>\n    <tr>\n      <th>1922</th>\n      <td>5166</td>\n      <td>430.500000</td>\n      <td>{'cell phones': [[1879.9912, 418.1053, 1917.86...</td>\n    </tr>\n  </tbody>\n</table>\n</div>"
     },
     "execution_count": 48,
     "metadata": {},
     "output_type": "execute_result"
    }
   ],
   "source": [
    "model.detected_data.tail()"
   ],
   "metadata": {
    "collapsed": false,
    "ExecuteTime": {
     "end_time": "2023-09-22T19:37:51.713679408Z",
     "start_time": "2023-09-22T19:37:51.672799280Z"
    }
   }
  },
  {
   "cell_type": "code",
   "execution_count": 49,
   "outputs": [],
   "source": [
    "yolodf = model.detected_data"
   ],
   "metadata": {
    "collapsed": false,
    "ExecuteTime": {
     "end_time": "2023-09-22T19:42:26.753384620Z",
     "start_time": "2023-09-22T19:42:26.709825483Z"
    }
   }
  },
  {
   "cell_type": "code",
   "execution_count": 51,
   "outputs": [],
   "source": [
    "yolodf = yolodf.set_index('Frame_id')"
   ],
   "metadata": {
    "collapsed": false,
    "ExecuteTime": {
     "end_time": "2023-09-22T19:45:28.725431571Z",
     "start_time": "2023-09-22T19:45:28.683489747Z"
    }
   }
  },
  {
   "cell_type": "code",
   "execution_count": 52,
   "outputs": [
    {
     "data": {
      "text/plain": "              Time                                           Position\nFrame_id                                                             \n1         0.083333  {'cell phones': [[353.6478, 334.2564, 402.1416...\n2         0.166667  {'cell phones': [[353.80054, 334.19482, 402.31...\n3         0.250000  {'cell phones': [[353.91556, 334.04474, 402.43...\n4         0.333333  {'cell phones': [[353.88528, 333.9823, 402.315...\n5         0.416667  {'cell phones': [[353.71866, 334.07675, 402.18...",
      "text/html": "<div>\n<style scoped>\n    .dataframe tbody tr th:only-of-type {\n        vertical-align: middle;\n    }\n\n    .dataframe tbody tr th {\n        vertical-align: top;\n    }\n\n    .dataframe thead th {\n        text-align: right;\n    }\n</style>\n<table border=\"1\" class=\"dataframe\">\n  <thead>\n    <tr style=\"text-align: right;\">\n      <th></th>\n      <th>Time</th>\n      <th>Position</th>\n    </tr>\n    <tr>\n      <th>Frame_id</th>\n      <th></th>\n      <th></th>\n    </tr>\n  </thead>\n  <tbody>\n    <tr>\n      <th>1</th>\n      <td>0.083333</td>\n      <td>{'cell phones': [[353.6478, 334.2564, 402.1416...</td>\n    </tr>\n    <tr>\n      <th>2</th>\n      <td>0.166667</td>\n      <td>{'cell phones': [[353.80054, 334.19482, 402.31...</td>\n    </tr>\n    <tr>\n      <th>3</th>\n      <td>0.250000</td>\n      <td>{'cell phones': [[353.91556, 334.04474, 402.43...</td>\n    </tr>\n    <tr>\n      <th>4</th>\n      <td>0.333333</td>\n      <td>{'cell phones': [[353.88528, 333.9823, 402.315...</td>\n    </tr>\n    <tr>\n      <th>5</th>\n      <td>0.416667</td>\n      <td>{'cell phones': [[353.71866, 334.07675, 402.18...</td>\n    </tr>\n  </tbody>\n</table>\n</div>"
     },
     "execution_count": 52,
     "metadata": {},
     "output_type": "execute_result"
    }
   ],
   "source": [
    "yolodf.head()"
   ],
   "metadata": {
    "collapsed": false,
    "ExecuteTime": {
     "end_time": "2023-09-22T19:46:09.757710132Z",
     "start_time": "2023-09-22T19:46:09.710188507Z"
    }
   }
  },
  {
   "cell_type": "code",
   "execution_count": 54,
   "outputs": [
    {
     "ename": "KeyError",
     "evalue": "\"None of ['Frame_id'] are in the columns\"",
     "output_type": "error",
     "traceback": [
      "\u001B[0;31m---------------------------------------------------------------------------\u001B[0m",
      "\u001B[0;31mKeyError\u001B[0m                                  Traceback (most recent call last)",
      "\u001B[0;32m/tmp/ipykernel_9006/147456772.py\u001B[0m in \u001B[0;36m?\u001B[0;34m()\u001B[0m\n\u001B[0;32m----> 1\u001B[0;31m \u001B[0mdropeddf\u001B[0m \u001B[0;34m=\u001B[0m \u001B[0mdropeddf\u001B[0m\u001B[0;34m.\u001B[0m\u001B[0mset_index\u001B[0m\u001B[0;34m(\u001B[0m\u001B[0;34m'Frame_id'\u001B[0m\u001B[0;34m)\u001B[0m\u001B[0;34m\u001B[0m\u001B[0;34m\u001B[0m\u001B[0m\n\u001B[0m\u001B[1;32m      2\u001B[0m \u001B[0mdropeddf\u001B[0m\u001B[0;34m.\u001B[0m\u001B[0mhead\u001B[0m\u001B[0;34m(\u001B[0m\u001B[0;34m)\u001B[0m\u001B[0;34m\u001B[0m\u001B[0;34m\u001B[0m\u001B[0m\n",
      "\u001B[0;32m~/miniconda3/envs/attention_monitoting/lib/python3.10/site-packages/pandas/core/frame.py\u001B[0m in \u001B[0;36m?\u001B[0;34m(self, keys, drop, append, inplace, verify_integrity)\u001B[0m\n\u001B[1;32m   5855\u001B[0m                     \u001B[0;32mif\u001B[0m \u001B[0;32mnot\u001B[0m \u001B[0mfound\u001B[0m\u001B[0;34m:\u001B[0m\u001B[0;34m\u001B[0m\u001B[0;34m\u001B[0m\u001B[0m\n\u001B[1;32m   5856\u001B[0m                         \u001B[0mmissing\u001B[0m\u001B[0;34m.\u001B[0m\u001B[0mappend\u001B[0m\u001B[0;34m(\u001B[0m\u001B[0mcol\u001B[0m\u001B[0;34m)\u001B[0m\u001B[0;34m\u001B[0m\u001B[0;34m\u001B[0m\u001B[0m\n\u001B[1;32m   5857\u001B[0m \u001B[0;34m\u001B[0m\u001B[0m\n\u001B[1;32m   5858\u001B[0m         \u001B[0;32mif\u001B[0m \u001B[0mmissing\u001B[0m\u001B[0;34m:\u001B[0m\u001B[0;34m\u001B[0m\u001B[0;34m\u001B[0m\u001B[0m\n\u001B[0;32m-> 5859\u001B[0;31m             \u001B[0;32mraise\u001B[0m \u001B[0mKeyError\u001B[0m\u001B[0;34m(\u001B[0m\u001B[0;34mf\"None of {missing} are in the columns\"\u001B[0m\u001B[0;34m)\u001B[0m\u001B[0;34m\u001B[0m\u001B[0;34m\u001B[0m\u001B[0m\n\u001B[0m\u001B[1;32m   5860\u001B[0m \u001B[0;34m\u001B[0m\u001B[0m\n\u001B[1;32m   5861\u001B[0m         \u001B[0;32mif\u001B[0m \u001B[0minplace\u001B[0m\u001B[0;34m:\u001B[0m\u001B[0;34m\u001B[0m\u001B[0;34m\u001B[0m\u001B[0m\n\u001B[1;32m   5862\u001B[0m             \u001B[0mframe\u001B[0m \u001B[0;34m=\u001B[0m \u001B[0mself\u001B[0m\u001B[0;34m\u001B[0m\u001B[0;34m\u001B[0m\u001B[0m\n",
      "\u001B[0;31mKeyError\u001B[0m: \"None of ['Frame_id'] are in the columns\""
     ]
    }
   ],
   "source": [
    "dropeddf = dropeddf.set_index('Frame_id')\n"
   ],
   "metadata": {
    "collapsed": false,
    "ExecuteTime": {
     "end_time": "2023-09-22T19:47:02.630183399Z",
     "start_time": "2023-09-22T19:47:02.597968653Z"
    }
   }
  },
  {
   "cell_type": "code",
   "execution_count": 55,
   "outputs": [
    {
     "data": {
      "text/plain": "              Time  People_count  \\\nFrame_id                           \n1         0.083333             2   \n2         0.166667             2   \n3         0.250000             2   \n4         0.333333             2   \n5         0.416667             2   \n\n                                                  KeyPoints  \nFrame_id                                                     \n1         [[[1002.46533203125, 663.6934814453125], [989....  \n2         [[[1013.07177734375, 678.38623046875], [996.08...  \n3         [[[1033.189697265625, 691.5792236328125], [101...  \n4         [[[1020.4559326171875, 678.0460205078125], [10...  \n5         [[[1015.8204345703125, 672.3037719726562], [99...  ",
      "text/html": "<div>\n<style scoped>\n    .dataframe tbody tr th:only-of-type {\n        vertical-align: middle;\n    }\n\n    .dataframe tbody tr th {\n        vertical-align: top;\n    }\n\n    .dataframe thead th {\n        text-align: right;\n    }\n</style>\n<table border=\"1\" class=\"dataframe\">\n  <thead>\n    <tr style=\"text-align: right;\">\n      <th></th>\n      <th>Time</th>\n      <th>People_count</th>\n      <th>KeyPoints</th>\n    </tr>\n    <tr>\n      <th>Frame_id</th>\n      <th></th>\n      <th></th>\n      <th></th>\n    </tr>\n  </thead>\n  <tbody>\n    <tr>\n      <th>1</th>\n      <td>0.083333</td>\n      <td>2</td>\n      <td>[[[1002.46533203125, 663.6934814453125], [989....</td>\n    </tr>\n    <tr>\n      <th>2</th>\n      <td>0.166667</td>\n      <td>2</td>\n      <td>[[[1013.07177734375, 678.38623046875], [996.08...</td>\n    </tr>\n    <tr>\n      <th>3</th>\n      <td>0.250000</td>\n      <td>2</td>\n      <td>[[[1033.189697265625, 691.5792236328125], [101...</td>\n    </tr>\n    <tr>\n      <th>4</th>\n      <td>0.333333</td>\n      <td>2</td>\n      <td>[[[1020.4559326171875, 678.0460205078125], [10...</td>\n    </tr>\n    <tr>\n      <th>5</th>\n      <td>0.416667</td>\n      <td>2</td>\n      <td>[[[1015.8204345703125, 672.3037719726562], [99...</td>\n    </tr>\n  </tbody>\n</table>\n</div>"
     },
     "execution_count": 55,
     "metadata": {},
     "output_type": "execute_result"
    }
   ],
   "source": [
    "dropeddf.head()"
   ],
   "metadata": {
    "collapsed": false,
    "ExecuteTime": {
     "end_time": "2023-09-22T19:47:20.679521859Z",
     "start_time": "2023-09-22T19:47:20.655385188Z"
    }
   }
  },
  {
   "cell_type": "code",
   "execution_count": 71,
   "outputs": [
    {
     "data": {
      "text/plain": "[[array([     353.65,      334.26,      402.14,       424.4], dtype=float32)],\n [array([     353.65,      334.26,      402.14,       424.4], dtype=float32)],\n [array([     353.65,      334.26,      402.14,       424.4], dtype=float32)]]"
     },
     "execution_count": 71,
     "metadata": {},
     "output_type": "execute_result"
    }
   ],
   "source": [
    "[bbox['cell phones'] for bbox in yolodf.loc[1, 'Position'].values]"
   ],
   "metadata": {
    "collapsed": false,
    "ExecuteTime": {
     "end_time": "2023-09-22T20:03:22.061574474Z",
     "start_time": "2023-09-22T20:03:22.016568200Z"
    }
   }
  },
  {
   "cell_type": "code",
   "execution_count": 75,
   "outputs": [
    {
     "data": {
      "text/plain": "[[[1011.9351196289062, 661.543212890625],\n  [1397.3941650390625, 704.1448974609375]],\n [[311.62347412109375, 522.0468139648438],\n  [287.2590026855469, 418.62066650390625]]]"
     },
     "execution_count": 75,
     "metadata": {},
     "output_type": "execute_result"
    }
   ],
   "source": [
    "wrists = [pose[9:11] for pose in dropeddf.loc[1, 'KeyPoints']]\n",
    "wrists"
   ],
   "metadata": {
    "collapsed": false,
    "ExecuteTime": {
     "end_time": "2023-09-22T20:12:47.202066967Z",
     "start_time": "2023-09-22T20:12:47.176285460Z"
    }
   }
  },
  {
   "cell_type": "code",
   "execution_count": 76,
   "outputs": [],
   "source": [
    "def get_center(bbox):\n",
    "    return [(bbox[0] + bbox[2]) / 2, (bbox[1] + bbox[3]) / 2]"
   ],
   "metadata": {
    "collapsed": false,
    "ExecuteTime": {
     "end_time": "2023-09-22T20:16:59.093342131Z",
     "start_time": "2023-09-22T20:16:59.050611922Z"
    }
   }
  },
  {
   "cell_type": "code",
   "execution_count": 57,
   "outputs": [
    {
     "ename": "SyntaxError",
     "evalue": "incomplete input (1692528271.py, line 5)",
     "output_type": "error",
     "traceback": [
      "\u001B[0;36m  Cell \u001B[0;32mIn[57], line 5\u001B[0;36m\u001B[0m\n\u001B[0;31m    if len(history) < len():\u001B[0m\n\u001B[0m                            ^\u001B[0m\n\u001B[0;31mSyntaxError\u001B[0m\u001B[0;31m:\u001B[0m incomplete input\n"
     ]
    }
   ],
   "source": [
    "history = []\n",
    "for frame_id in dropeddf.index:\n",
    "    if frame_id in yolodf.index:\n",
    "        phones = [bbox['cell phones'] for bbox in yolodf.loc[frame_id, 'Position'].values]\n",
    "        wrists = [pose[9:11] for pose in dropeddf.loc[frame_id, 'KeyPoints']]\n",
    "        # iter_arr = history if len(history) < len(phones) else phones\n",
    "        if len(history) < len(phones):\n",
    "            for bbox in history:\n",
    "                bbox_center = get_center(bbox)\n",
    "\n",
    "                bbox[]\n",
    "            "
   ],
   "metadata": {
    "collapsed": false,
    "ExecuteTime": {
     "end_time": "2023-09-22T19:58:47.872670218Z",
     "start_time": "2023-09-22T19:58:47.856111504Z"
    }
   }
  },
  {
   "cell_type": "code",
   "execution_count": 46,
   "outputs": [
    {
     "data": {
      "text/plain": "0"
     },
     "execution_count": 46,
     "metadata": {},
     "output_type": "execute_result"
    }
   ],
   "source": [
    "import numpy as np\n",
    "\n",
    "(dropeddf.Frame_id.values != np.arange(1, len(dropeddf.Frame_id.values) + 1)).sum()"
   ],
   "metadata": {
    "collapsed": false,
    "ExecuteTime": {
     "end_time": "2023-09-22T19:29:50.195342344Z",
     "start_time": "2023-09-22T19:29:50.187800462Z"
    }
   }
  },
  {
   "cell_type": "code",
   "execution_count": 77,
   "outputs": [],
   "source": [
    "dropeddf.to_csv('posest.csv')"
   ],
   "metadata": {
    "collapsed": false,
    "ExecuteTime": {
     "end_time": "2023-09-22T20:37:50.808908410Z",
     "start_time": "2023-09-22T20:37:50.618571957Z"
    }
   }
  },
  {
   "cell_type": "code",
   "execution_count": 78,
   "outputs": [],
   "source": [
    "yolodf.to_csv('yolo.csv')"
   ],
   "metadata": {
    "collapsed": false,
    "ExecuteTime": {
     "end_time": "2023-09-22T20:38:13.769128015Z",
     "start_time": "2023-09-22T20:38:13.718480961Z"
    }
   }
  },
  {
   "cell_type": "code",
   "execution_count": 44,
   "outputs": [
    {
     "data": {
      "text/plain": "      Frame_id        Time  People_count  \\\n5246      5187  432.250000             2   \n5247      5188  432.333333             2   \n5248      5189  432.416667             2   \n5249      5190  432.500000             2   \n5250      5191  432.583333             2   \n5251      5192  432.666667             2   \n5252      5193  432.750000             2   \n5253      5194  432.833333             2   \n5254      5195  432.916667             2   \n5255      5196  433.000000             2   \n\n                                              KeyPoints  \n5246  [[[1259.4752197265625, 593.263671875], [1246.9...  \n5247  [[[1272.059326171875, 600.8618774414062], [126...  \n5248  [[[1281.7352294921875, 604.2354736328125], [12...  \n5249  [[[1296.75341796875, 604.5177612304688], [1282...  \n5250  [[[1300.808837890625, 605.81005859375], [1286....  \n5251  [[[1289.404052734375, 608.2304077148438], [127...  \n5252  [[[1293.4332275390625, 593.5037231445312], [12...  \n5253  [[[1293.38916015625, 589.206298828125], [1283....  \n5254  [[[1283.82666015625, 588.625244140625], [1274....  \n5255  [[[1294.331787109375, 575.75146484375], [1283....  ",
      "text/html": "<div>\n<style scoped>\n    .dataframe tbody tr th:only-of-type {\n        vertical-align: middle;\n    }\n\n    .dataframe tbody tr th {\n        vertical-align: top;\n    }\n\n    .dataframe thead th {\n        text-align: right;\n    }\n</style>\n<table border=\"1\" class=\"dataframe\">\n  <thead>\n    <tr style=\"text-align: right;\">\n      <th></th>\n      <th>Frame_id</th>\n      <th>Time</th>\n      <th>People_count</th>\n      <th>KeyPoints</th>\n    </tr>\n  </thead>\n  <tbody>\n    <tr>\n      <th>5246</th>\n      <td>5187</td>\n      <td>432.250000</td>\n      <td>2</td>\n      <td>[[[1259.4752197265625, 593.263671875], [1246.9...</td>\n    </tr>\n    <tr>\n      <th>5247</th>\n      <td>5188</td>\n      <td>432.333333</td>\n      <td>2</td>\n      <td>[[[1272.059326171875, 600.8618774414062], [126...</td>\n    </tr>\n    <tr>\n      <th>5248</th>\n      <td>5189</td>\n      <td>432.416667</td>\n      <td>2</td>\n      <td>[[[1281.7352294921875, 604.2354736328125], [12...</td>\n    </tr>\n    <tr>\n      <th>5249</th>\n      <td>5190</td>\n      <td>432.500000</td>\n      <td>2</td>\n      <td>[[[1296.75341796875, 604.5177612304688], [1282...</td>\n    </tr>\n    <tr>\n      <th>5250</th>\n      <td>5191</td>\n      <td>432.583333</td>\n      <td>2</td>\n      <td>[[[1300.808837890625, 605.81005859375], [1286....</td>\n    </tr>\n    <tr>\n      <th>5251</th>\n      <td>5192</td>\n      <td>432.666667</td>\n      <td>2</td>\n      <td>[[[1289.404052734375, 608.2304077148438], [127...</td>\n    </tr>\n    <tr>\n      <th>5252</th>\n      <td>5193</td>\n      <td>432.750000</td>\n      <td>2</td>\n      <td>[[[1293.4332275390625, 593.5037231445312], [12...</td>\n    </tr>\n    <tr>\n      <th>5253</th>\n      <td>5194</td>\n      <td>432.833333</td>\n      <td>2</td>\n      <td>[[[1293.38916015625, 589.206298828125], [1283....</td>\n    </tr>\n    <tr>\n      <th>5254</th>\n      <td>5195</td>\n      <td>432.916667</td>\n      <td>2</td>\n      <td>[[[1283.82666015625, 588.625244140625], [1274....</td>\n    </tr>\n    <tr>\n      <th>5255</th>\n      <td>5196</td>\n      <td>433.000000</td>\n      <td>2</td>\n      <td>[[[1294.331787109375, 575.75146484375], [1283....</td>\n    </tr>\n  </tbody>\n</table>\n</div>"
     },
     "execution_count": 44,
     "metadata": {},
     "output_type": "execute_result"
    }
   ],
   "source": [
    "dropeddf.tail(10)"
   ],
   "metadata": {
    "collapsed": false,
    "ExecuteTime": {
     "end_time": "2023-09-22T19:27:51.033688218Z",
     "start_time": "2023-09-22T19:27:51.005332911Z"
    }
   }
  },
  {
   "cell_type": "code",
   "execution_count": 38,
   "outputs": [
    {
     "data": {
      "text/plain": "5180"
     },
     "execution_count": 38,
     "metadata": {},
     "output_type": "execute_result"
    }
   ],
   "source": [
    "(dropeddf.index.values != dropeddf['Frame_id'].values - 1).sum()"
   ],
   "metadata": {
    "collapsed": false,
    "ExecuteTime": {
     "end_time": "2023-09-22T19:26:54.209591333Z",
     "start_time": "2023-09-22T19:26:54.166694045Z"
    }
   }
  },
  {
   "cell_type": "code",
   "execution_count": null,
   "outputs": [],
   "source": [
    "import pandas as pd\n",
    "\n",
    "pos_est_data = pd.DataFrame(model.pos_est_values, columns=['Frame_id', 'Time', *model.keypoints])\n",
    "pos_est_data"
   ],
   "metadata": {
    "collapsed": false,
    "ExecuteTime": {
     "start_time": "2023-09-22T19:02:51.110094125Z"
    }
   }
  },
  {
   "cell_type": "code",
   "execution_count": null,
   "outputs": [],
   "source": [
    "pos_est_data"
   ],
   "metadata": {
    "collapsed": false,
    "ExecuteTime": {
     "start_time": "2023-09-22T19:02:51.110277744Z"
    }
   }
  },
  {
   "cell_type": "code",
   "execution_count": null,
   "outputs": [],
   "source": [
    "model.pos_est_data.head(10)"
   ],
   "metadata": {
    "collapsed": false,
    "ExecuteTime": {
     "start_time": "2023-09-22T19:02:51.110388508Z"
    }
   }
  },
  {
   "cell_type": "code",
   "execution_count": null,
   "outputs": [],
   "source": [
    "model.pos_est_data.info()"
   ],
   "metadata": {
    "collapsed": false,
    "ExecuteTime": {
     "start_time": "2023-09-22T19:02:51.110491752Z"
    }
   }
  },
  {
   "cell_type": "code",
   "execution_count": null,
   "outputs": [],
   "source": [
    "from ultralytics import YOLO\n",
    "\n",
    "model = YOLO('models/yolov8x-pose.pt').to('cuda')\n",
    "result = model.predict(DATA_PATH, stream=True, save=True)"
   ],
   "metadata": {
    "collapsed": false,
    "ExecuteTime": {
     "start_time": "2023-09-22T19:02:51.110620914Z"
    }
   }
  },
  {
   "cell_type": "code",
   "execution_count": null,
   "outputs": [],
   "source": [
    "model('result/model_output_video.avi')"
   ],
   "metadata": {
    "collapsed": false,
    "ExecuteTime": {
     "start_time": "2023-09-22T19:02:51.110683535Z"
    }
   }
  },
  {
   "cell_type": "code",
   "execution_count": null,
   "outputs": [],
   "source": [
    "model.pos_est_data.to_csv('result/pos_est_data.csv', index=0)"
   ],
   "metadata": {
    "collapsed": false,
    "ExecuteTime": {
     "start_time": "2023-09-22T19:02:51.110750893Z"
    }
   }
  },
  {
   "cell_type": "markdown",
   "source": [],
   "metadata": {
    "collapsed": false
   }
  },
  {
   "cell_type": "code",
   "execution_count": null,
   "outputs": [],
   "source": [
    "model.detected_data.to_csv('result/detected_data.csv', index=0)"
   ],
   "metadata": {
    "collapsed": false,
    "ExecuteTime": {
     "start_time": "2023-09-22T19:02:51.110812733Z"
    }
   }
  }
 ],
 "metadata": {
  "kernelspec": {
   "display_name": "Python 3",
   "language": "python",
   "name": "python3"
  },
  "language_info": {
   "codemirror_mode": {
    "name": "ipython",
    "version": 2
   },
   "file_extension": ".py",
   "mimetype": "text/x-python",
   "name": "python",
   "nbconvert_exporter": "python",
   "pygments_lexer": "ipython2",
   "version": "2.7.6"
  }
 },
 "nbformat": 4,
 "nbformat_minor": 0
}
