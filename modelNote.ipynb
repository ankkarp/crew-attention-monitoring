{
 "cells": [
  {
   "cell_type": "code",
   "execution_count": 1,
   "metadata": {
    "collapsed": true,
    "ExecuteTime": {
     "end_time": "2023-09-23T18:37:43.772329462Z",
     "start_time": "2023-09-23T18:37:42.165370860Z"
    }
   },
   "outputs": [],
   "source": [
    "from model import AttentionModel"
   ]
  },
  {
   "cell_type": "code",
   "execution_count": 4,
   "outputs": [],
   "source": [
    "keyPoints = {\n",
    "    'NOSE': 0,\n",
    "    'LEFT_EYE': 1,\n",
    "    'RIGHT_EYE': 2,\n",
    "    'LEFT_EAR':3,\n",
    "    'RIGHT_EAR': 4,\n",
    "    'LEFT_SHOULDER': 5,\n",
    "    'RIGHT_SHOULDER':6,\n",
    "    'LEFT_ELBOW': 7,\n",
    "    'RIGHT_ELBOW': 8,\n",
    "    'LEFT_WRIST': 9,\n",
    "    'RIGHT_WRIST': 10,\n",
    "    'LEFT_HIP': 11,\n",
    "    'RIGHT_HIP': 12,\n",
    "    'LEFT_KNEE': 13,\n",
    "    'RIGHT_KNEE': 14,\n",
    "    'LEFT_ANKLE': 15,\n",
    "    'RIGHT_ANKLE': 16,\n",
    "}"
   ],
   "metadata": {
    "collapsed": false,
    "ExecuteTime": {
     "end_time": "2023-09-23T18:37:53.138151291Z",
     "start_time": "2023-09-23T18:37:53.119782140Z"
    }
   }
  },
  {
   "cell_type": "code",
   "execution_count": 5,
   "outputs": [],
   "source": [
    "MODEL_SLUG = '70_7_x_best'"
   ],
   "metadata": {
    "collapsed": false,
    "ExecuteTime": {
     "end_time": "2023-09-23T18:37:53.605431541Z",
     "start_time": "2023-09-23T18:37:53.597262824Z"
    }
   }
  },
  {
   "cell_type": "code",
   "execution_count": 8,
   "outputs": [],
   "source": [
    "OUT_PATH = f'result/model_output_video_{MODEL_SLUG}.avi' # your video path for saving\n",
    "DATA_PATH = 'Анализ бригад (телефон)/Есть телефон/00_51_01.mp4' # your video path for processing\n",
    "SAVE_IMG_PATH = 'result'"
   ],
   "metadata": {
    "collapsed": false,
    "ExecuteTime": {
     "end_time": "2023-09-23T18:38:27.702813394Z",
     "start_time": "2023-09-23T18:38:27.656768863Z"
    }
   }
  },
  {
   "cell_type": "code",
   "execution_count": 9,
   "outputs": [],
   "source": [
    "model = AttentionModel(batch_size=32)\n",
    "model.load_models(f'models/{MODEL_SLUG}.pt', 'models/yolov8x-pose.pt')"
   ],
   "metadata": {
    "collapsed": false,
    "ExecuteTime": {
     "end_time": "2023-09-23T18:38:28.638198111Z",
     "start_time": "2023-09-23T18:38:28.338078077Z"
    }
   }
  },
  {
   "cell_type": "code",
   "execution_count": 10,
   "outputs": [
    {
     "name": "stderr",
     "output_type": "stream",
     "text": [
      "100%|█████████▉| 5216/5221 [09:36<00:00,  9.05it/s]"
     ]
    },
    {
     "name": "stdout",
     "output_type": "stream",
     "text": [
      "Time: 576.2687139511108\n"
     ]
    },
    {
     "name": "stderr",
     "output_type": "stream",
     "text": [
      "\n"
     ]
    }
   ],
   "source": [
    "model.process_video(DATA_PATH, OUT_PATH, save=True)"
   ],
   "metadata": {
    "collapsed": false,
    "ExecuteTime": {
     "end_time": "2023-09-23T18:48:07.940212135Z",
     "start_time": "2023-09-23T18:38:31.625717690Z"
    }
   }
  },
  {
   "cell_type": "code",
   "execution_count": 6,
   "outputs": [
    {
     "name": "stderr",
     "output_type": "stream",
     "text": [
      "100%|█████████▉| 5179/5196 [09:01<00:01,  8.87it/s]"
     ]
    },
    {
     "name": "stdout",
     "output_type": "stream",
     "text": [
      "he\n"
     ]
    },
    {
     "name": "stderr",
     "output_type": "stream",
     "text": [
      "100%|█████████▉| 5179/5196 [09:03<00:01,  9.53it/s]"
     ]
    },
    {
     "name": "stdout",
     "output_type": "stream",
     "text": [
      "heh\n",
      "Time: 543.3376023769379\n"
     ]
    },
    {
     "name": "stderr",
     "output_type": "stream",
     "text": [
      "\n"
     ]
    }
   ],
   "source": [
    "model.process_video(DATA_PATH, OUT_PATH, save=True)"
   ],
   "metadata": {
    "collapsed": false,
    "ExecuteTime": {
     "end_time": "2023-09-23T17:32:55.721115814Z",
     "start_time": "2023-09-23T17:23:52.270056934Z"
    }
   }
  },
  {
   "cell_type": "code",
   "execution_count": 7,
   "outputs": [
    {
     "name": "stderr",
     "output_type": "stream",
     "text": [
      "100%|█████████▉| 5184/5196 [10:12<00:01,  8.47it/s]"
     ]
    },
    {
     "name": "stdout",
     "output_type": "stream",
     "text": [
      "Time: 612.2154712677002\n"
     ]
    },
    {
     "name": "stderr",
     "output_type": "stream",
     "text": [
      "\n"
     ]
    }
   ],
   "source": [
    "model.process_video(DATA_PATH, OUT_PATH, save=True)"
   ],
   "metadata": {
    "collapsed": false,
    "ExecuteTime": {
     "end_time": "2023-09-23T18:27:26.004774550Z",
     "start_time": "2023-09-23T18:17:13.713020329Z"
    }
   }
  },
  {
   "cell_type": "code",
   "execution_count": null,
   "outputs": [],
   "source": [],
   "metadata": {
    "collapsed": false
   }
  },
  {
   "cell_type": "code",
   "execution_count": 11,
   "outputs": [],
   "source": [
    "from analysis import Analyzer"
   ],
   "metadata": {
    "collapsed": false,
    "ExecuteTime": {
     "end_time": "2023-09-23T18:48:12.317475466Z",
     "start_time": "2023-09-23T18:48:12.275794309Z"
    }
   }
  },
  {
   "cell_type": "code",
   "execution_count": 12,
   "outputs": [],
   "source": [
    "analyzer = Analyzer()"
   ],
   "metadata": {
    "collapsed": false,
    "ExecuteTime": {
     "end_time": "2023-09-23T18:48:13.303845921Z",
     "start_time": "2023-09-23T18:48:13.292086022Z"
    }
   }
  },
  {
   "cell_type": "code",
   "execution_count": 13,
   "outputs": [
    {
     "name": "stderr",
     "output_type": "stream",
     "text": [
      "100%|██████████| 758/758 [00:00<00:00, 2836112.79it/s]\n"
     ]
    },
    {
     "data": {
      "text/plain": "['0:0, passed_time: 0:35', '1:22, passed_time: 0:14']"
     },
     "execution_count": 13,
     "metadata": {},
     "output_type": "execute_result"
    }
   ],
   "source": [
    "analyzer.get_violations(pos_est_data=model.pos_est_data, detection_data=model.detected_data)"
   ],
   "metadata": {
    "collapsed": false,
    "ExecuteTime": {
     "end_time": "2023-09-23T18:48:18.267273618Z",
     "start_time": "2023-09-23T18:48:18.081471172Z"
    }
   }
  },
  {
   "cell_type": "code",
   "execution_count": null,
   "outputs": [],
   "source": [
    "model.pos_est_data.to_csv(f'result/{MODEL_SLUG}_pos_data.csv', index=0)\n",
    "model.detected_data.to_csv(f'result/{MODEL_SLUG}_det_data.csv', index=0)"
   ],
   "metadata": {
    "collapsed": false,
    "ExecuteTime": {
     "end_time": "2023-09-23T17:32:56.026730674Z",
     "start_time": "2023-09-23T17:32:56.026527994Z"
    }
   }
  },
  {
   "cell_type": "code",
   "execution_count": null,
   "outputs": [],
   "source": [
    "pos_est_data = model.pos_est_data"
   ],
   "metadata": {
    "collapsed": false,
    "ExecuteTime": {
     "start_time": "2023-09-23T17:32:56.027996637Z"
    }
   }
  },
  {
   "cell_type": "code",
   "execution_count": null,
   "outputs": [],
   "source": [
    "detection_data = model.detected_data"
   ],
   "metadata": {
    "collapsed": false,
    "ExecuteTime": {
     "start_time": "2023-09-23T17:32:56.029432321Z"
    }
   }
  },
  {
   "cell_type": "code",
   "execution_count": null,
   "outputs": [],
   "source": [
    "analyzer.get_violations(model.pos_est_data, model.detected_data)"
   ],
   "metadata": {
    "collapsed": false,
    "ExecuteTime": {
     "start_time": "2023-09-23T17:32:56.041144354Z"
    }
   }
  },
  {
   "cell_type": "code",
   "execution_count": null,
   "outputs": [],
   "source": [],
   "metadata": {
    "collapsed": false,
    "ExecuteTime": {
     "start_time": "2023-09-23T17:32:56.041225099Z"
    }
   }
  },
  {
   "cell_type": "code",
   "execution_count": null,
   "outputs": [],
   "source": [
    "del model"
   ],
   "metadata": {
    "collapsed": false,
    "ExecuteTime": {
     "start_time": "2023-09-23T17:32:56.041279801Z"
    }
   }
  },
  {
   "cell_type": "code",
   "execution_count": null,
   "outputs": [],
   "source": [
    "import torch\n",
    "\n",
    "torch.cuda.empty_cache()"
   ],
   "metadata": {
    "collapsed": false,
    "ExecuteTime": {
     "start_time": "2023-09-23T17:32:56.041321316Z"
    }
   }
  },
  {
   "cell_type": "code",
   "execution_count": null,
   "outputs": [],
   "source": [
    "analyzer.violations"
   ],
   "metadata": {
    "collapsed": false,
    "ExecuteTime": {
     "end_time": "2023-09-23T17:32:56.041580161Z",
     "start_time": "2023-09-23T17:32:56.041366338Z"
    }
   }
  },
  {
   "cell_type": "code",
   "execution_count": null,
   "outputs": [],
   "source": [
    "model.detected_data.head(10)['Position'].apply(lambda x: len(x[0]))"
   ],
   "metadata": {
    "collapsed": false,
    "ExecuteTime": {
     "start_time": "2023-09-23T17:32:56.041408996Z"
    }
   }
  },
  {
   "cell_type": "code",
   "execution_count": null,
   "outputs": [],
   "source": [
    "model.detected_data.to_csv('batchdetect.csv')"
   ],
   "metadata": {
    "collapsed": false,
    "ExecuteTime": {
     "start_time": "2023-09-23T17:32:56.041511089Z"
    }
   }
  },
  {
   "cell_type": "code",
   "execution_count": null,
   "outputs": [],
   "source": [
    "model.pos_est_data.to_csv('batchestpose.csv')"
   ],
   "metadata": {
    "collapsed": false,
    "ExecuteTime": {
     "start_time": "2023-09-23T17:32:56.041550321Z"
    }
   }
  },
  {
   "cell_type": "markdown",
   "source": [
    "mdel.detected_data"
   ],
   "metadata": {
    "collapsed": false
   }
  },
  {
   "cell_type": "code",
   "execution_count": null,
   "outputs": [],
   "source": [
    "detection_data.loc[1, 'Position']"
   ],
   "metadata": {
    "collapsed": false,
    "ExecuteTime": {
     "end_time": "2023-09-23T17:32:56.042130433Z",
     "start_time": "2023-09-23T17:32:56.041667528Z"
    }
   }
  },
  {
   "cell_type": "code",
   "execution_count": null,
   "outputs": [],
   "source": [
    "import numpy as np\n",
    "\n",
    "pos_est_data = model.pos_est_data.drop_duplicates(subset=['Frame_id'])\n",
    "detection_data = model.detected_data.set_index('Frame_id')\n",
    "pos_est_data = pos_est_data.set_index('Frame_id')\n",
    "\n",
    "\n",
    "history = []\n",
    "max_allowed_dist = 1080 / 2\n",
    "wrist_phone_dist = 90\n",
    "violations = []\n",
    "\n",
    "\n",
    "def get_center(bbox):\n",
    "    return np.array([(bbox[0] + bbox[2]) / 2, (bbox[1] + bbox[3]) / 2])\n",
    "\n",
    "\n",
    "for frame_id in pos_est_data.index:\n",
    "    persons_wrists = [pose[9:11] for pose in pos_est_data.loc[frame_id, 'KeyPoints']]\n",
    "    persons_shoulders = [pose[5:7] for pose in pos_est_data.loc[frame_id, 'KeyPoints']]\n",
    "    time = pos_est_data.loc[frame_id, 'Time']\n",
    "\n",
    "    if frame_id in detection_data.index:  # we need to update phones last positions\n",
    "        phones = detection_data.loc[frame_id, 'Position'].copy()\n",
    "        print(type(phones))\n",
    "        print(np.array(phones).shape)\n",
    "        visibility = [0 for i in range(len(history))]\n",
    "\n",
    "        if len(history) < len(phones):\n",
    "            for i in range(len(history)):\n",
    "                center = get_center(history[i])\n",
    "                dists = list(map(lambda x: np.linalg.norm(get_center(x) - center), phones))\n",
    "                min_dist = min(dists)\n",
    "\n",
    "                if min_dist < max_allowed_dist:\n",
    "                    closest_id = dists.index(min_dist)\n",
    "                    history[i] = phones[closest_id]\n",
    "                    visibility[i] = 1  # we can see phone on frame\n",
    "                    phones.pop(closest_id)\n",
    "            if phones:\n",
    "                history.extend(phones)\n",
    "                visibility.extend([1 for i in range(len(phones))])  # we can see all extended phones\n",
    "\n",
    "        else:\n",
    "            for j in range(len(phones)):\n",
    "                center = get_center(phones[j])\n",
    "                dists = list(map(lambda x: np.linalg.norm(get_center(x) - center), history))\n",
    "                closest_id = np.argmin(dists)\n",
    "                if dists[closest_id] < max_allowed_dist:\n",
    "                    history[closest_id] = phones[j]\n",
    "                    visibility[j] = 1  # we can see phone on frame\n",
    "                    phones.pop(closest_id)\n",
    "            if phones:\n",
    "                history.extend(phones)\n",
    "                visibility.extend([1 for i in range(len(phones))])  # we can see all extended phones\n",
    "\n",
    "        #print(history, frame_id)\n",
    "\n",
    "    # if we have info about phones pos\n",
    "    if history:\n",
    "        # wrist near phone\n",
    "        for i in range(len(persons_wrists)):\n",
    "            for wrists in persons_wrists[i]:\n",
    "                dists = list(map(lambda x: np.linalg.norm(get_center(x) - wrists), history))\n",
    "                min_dist = min(dists)\n",
    "                closest_id = dists.index(min_dist)\n",
    "                if min_dist <= wrist_phone_dist:\n",
    "                    # frame, wrist pos, phone pos, index of human, phone_visibility, type of violation\n",
    "                    violations.append([frame_id, time, [wrists], history[closest_id], i, visibility[closest_id]])\n",
    "\n",
    "        # hidden phone between shoulders\n",
    "        for i in range(len(history)):\n",
    "            if visibility[i] == 0:  # for each invisible phone\n",
    "                center = get_center(history[i])\n",
    "\n",
    "                for j in range(len(persons_shoulders)): # for each person\n",
    "                    shoulders = persons_shoulders[j]\n",
    "                    wrists = persons_wrists[j]\n",
    "                    if shoulders[0][0] < center[0] < shoulders[1][0] and (\n",
    "                        shoulders[0][0] < wrists[0][0] < shoulders[1][0] or shoulders[0][0] < wrists[1][0] < shoulders[1][0]\n",
    "                    ):  # center of phone and one of the wrist between shoulders\n",
    "                        violations.append([frame_id, time, [shoulders, wrists], history[i], j, 0])\n",
    "\n",
    "\n",
    "violations_processed = []\n",
    "passed_time = 0\n",
    "start_time = -1\n",
    "\n",
    "count = 0\n",
    "for i in range(0, len(violations) - 1):\n",
    "    time_diff = violations[i + 1][1] - violations[i][1]\n",
    "    print(time_diff)\n",
    "    if violations[i + 1][4] == violations[i][4] and time_diff <= 1:\n",
    "        if start_time == -1:\n",
    "            start_time = violations[i][1]\n",
    "        passed_time += time_diff\n",
    "\n",
    "    else:\n",
    "        print(passed_time, 'passed_time')\n",
    "        if passed_time > 1:\n",
    "            # может прерываться видимость, сделать проверку\n",
    "            violations_processed.append([violations[i][4], start_time, violations[i][1], violations[i][5]])\n",
    "\n",
    "        passed_time = 0\n",
    "        start_time = -1"
   ],
   "metadata": {
    "collapsed": false,
    "ExecuteTime": {
     "start_time": "2023-09-23T17:32:56.041712558Z"
    }
   }
  },
  {
   "cell_type": "code",
   "execution_count": null,
   "outputs": [],
   "source": [
    "model.pos_est_data"
   ],
   "metadata": {
    "collapsed": false,
    "ExecuteTime": {
     "start_time": "2023-09-23T17:32:56.041744399Z"
    }
   }
  },
  {
   "cell_type": "code",
   "execution_count": null,
   "outputs": [],
   "source": [
    "model.detected_data"
   ],
   "metadata": {
    "collapsed": false,
    "ExecuteTime": {
     "start_time": "2023-09-23T17:32:56.041781489Z"
    }
   }
  },
  {
   "cell_type": "code",
   "execution_count": null,
   "outputs": [],
   "source": [
    "model.detected_data"
   ],
   "metadata": {
    "collapsed": false,
    "ExecuteTime": {
     "start_time": "2023-09-23T17:32:56.041860272Z"
    }
   }
  },
  {
   "cell_type": "code",
   "execution_count": null,
   "outputs": [],
   "source": [
    "model.detected_data.Position[0]"
   ],
   "metadata": {
    "collapsed": false,
    "ExecuteTime": {
     "start_time": "2023-09-23T17:32:56.042253842Z"
    }
   }
  },
  {
   "cell_type": "code",
   "execution_count": null,
   "outputs": [],
   "source": [
    "model.detected_data.to_csv('a.csv')"
   ],
   "metadata": {
    "collapsed": false,
    "ExecuteTime": {
     "start_time": "2023-09-23T17:32:56.043127592Z"
    }
   }
  },
  {
   "cell_type": "code",
   "execution_count": null,
   "outputs": [],
   "source": [
    "import pandas as pd\n",
    "\n",
    "df = pd.read_csv('a.csv')"
   ],
   "metadata": {
    "collapsed": false,
    "ExecuteTime": {
     "start_time": "2023-09-23T17:32:56.044068456Z"
    }
   }
  },
  {
   "cell_type": "code",
   "execution_count": null,
   "outputs": [],
   "source": [
    "df.loc[1, 'Position']"
   ],
   "metadata": {
    "collapsed": false,
    "ExecuteTime": {
     "start_time": "2023-09-23T17:32:56.045026378Z"
    }
   }
  },
  {
   "cell_type": "code",
   "execution_count": null,
   "outputs": [],
   "source": [
    "model.detected_data.loc[1, 'Position'][0][0]"
   ],
   "metadata": {
    "collapsed": false,
    "ExecuteTime": {
     "start_time": "2023-09-23T17:32:56.045949625Z"
    }
   }
  },
  {
   "cell_type": "code",
   "execution_count": null,
   "outputs": [],
   "source": [
    "model.detected_values"
   ],
   "metadata": {
    "collapsed": false,
    "ExecuteTime": {
     "start_time": "2023-09-23T17:32:56.046795329Z"
    }
   }
  },
  {
   "cell_type": "code",
   "execution_count": null,
   "outputs": [],
   "source": [
    "model.detected_data.to_csv('result/phones.csv')\n",
    "model.pos_est_data.to_csv('result/keypoints.csv')"
   ],
   "metadata": {
    "collapsed": false,
    "ExecuteTime": {
     "start_time": "2023-09-23T17:32:56.047724493Z"
    }
   }
  },
  {
   "cell_type": "code",
   "execution_count": null,
   "outputs": [],
   "source": [
    "model.detected_data.head()"
   ],
   "metadata": {
    "collapsed": false,
    "ExecuteTime": {
     "start_time": "2023-09-23T17:32:56.048596433Z"
    }
   }
  },
  {
   "cell_type": "code",
   "execution_count": null,
   "outputs": [],
   "source": [
    "dropeddf = model.pos_est_data.drop_duplicates(subset=['Frame_id', 'Time', \"People_count\"])"
   ],
   "metadata": {
    "collapsed": false,
    "ExecuteTime": {
     "start_time": "2023-09-23T17:32:56.049468117Z"
    }
   }
  },
  {
   "cell_type": "code",
   "execution_count": null,
   "outputs": [],
   "source": [
    "len(dropeddf)"
   ],
   "metadata": {
    "collapsed": false,
    "ExecuteTime": {
     "start_time": "2023-09-23T17:32:56.050329449Z"
    }
   }
  },
  {
   "cell_type": "code",
   "execution_count": null,
   "outputs": [],
   "source": [
    "dropeddf.head(10)"
   ],
   "metadata": {
    "collapsed": false,
    "ExecuteTime": {
     "start_time": "2023-09-23T17:32:56.051191217Z"
    }
   }
  },
  {
   "cell_type": "code",
   "execution_count": null,
   "outputs": [],
   "source": [
    "model.detected_data.tail()"
   ],
   "metadata": {
    "collapsed": false,
    "ExecuteTime": {
     "start_time": "2023-09-23T17:32:56.052077859Z"
    }
   }
  },
  {
   "cell_type": "code",
   "execution_count": null,
   "outputs": [],
   "source": [
    "yolodf = model.detected_data"
   ],
   "metadata": {
    "collapsed": false,
    "ExecuteTime": {
     "start_time": "2023-09-23T17:32:56.064555037Z"
    }
   }
  },
  {
   "cell_type": "code",
   "execution_count": null,
   "outputs": [],
   "source": [
    "yolodf = yolodf.set_index('Frame_id')"
   ],
   "metadata": {
    "collapsed": false,
    "ExecuteTime": {
     "start_time": "2023-09-23T17:32:56.064643893Z"
    }
   }
  },
  {
   "cell_type": "code",
   "execution_count": null,
   "outputs": [],
   "source": [
    "yolodf.head()"
   ],
   "metadata": {
    "collapsed": false,
    "ExecuteTime": {
     "start_time": "2023-09-23T17:32:56.064669794Z"
    }
   }
  },
  {
   "cell_type": "code",
   "execution_count": null,
   "outputs": [],
   "source": [
    "import pandas as pd\n",
    "\n",
    "yolodf = pd.read_csv('yolo.csv', index_col=0)\n",
    "yolodf"
   ],
   "metadata": {
    "collapsed": false,
    "ExecuteTime": {
     "start_time": "2023-09-23T17:32:56.064688912Z"
    }
   }
  },
  {
   "cell_type": "code",
   "execution_count": null,
   "outputs": [],
   "source": [
    "dropeddf = pd.read_csv('posest.csv', index_col=0)\n",
    "dropeddf"
   ],
   "metadata": {
    "collapsed": false,
    "ExecuteTime": {
     "start_time": "2023-09-23T17:32:56.064703942Z"
    }
   }
  },
  {
   "cell_type": "code",
   "execution_count": null,
   "outputs": [],
   "source": [
    "yolodf"
   ],
   "metadata": {
    "collapsed": false,
    "ExecuteTime": {
     "start_time": "2023-09-23T17:32:56.064718966Z"
    }
   }
  },
  {
   "cell_type": "code",
   "execution_count": null,
   "outputs": [],
   "source": [
    "dropeddf = dropeddf.set_index('Frame_id')\n"
   ],
   "metadata": {
    "collapsed": false,
    "ExecuteTime": {
     "start_time": "2023-09-23T17:32:56.064737622Z"
    }
   }
  },
  {
   "cell_type": "code",
   "execution_count": null,
   "outputs": [],
   "source": [
    "dropeddf.head()"
   ],
   "metadata": {
    "collapsed": false,
    "ExecuteTime": {
     "start_time": "2023-09-23T17:32:56.064755704Z"
    }
   }
  },
  {
   "cell_type": "code",
   "execution_count": null,
   "outputs": [],
   "source": [
    "[bbox['cell phones'] for bbox in yolodf.loc[1, 'Position'].values]"
   ],
   "metadata": {
    "collapsed": false,
    "ExecuteTime": {
     "start_time": "2023-09-23T17:32:56.064775860Z"
    }
   }
  },
  {
   "cell_type": "code",
   "execution_count": null,
   "outputs": [],
   "source": [
    "wrists = [pose[9:11] for pose in dropeddf.loc[1, 'KeyPoints']]"
   ],
   "metadata": {
    "collapsed": false,
    "ExecuteTime": {
     "start_time": "2023-09-23T17:32:56.064795811Z"
    }
   }
  },
  {
   "cell_type": "code",
   "execution_count": null,
   "outputs": [],
   "source": [
    "wrists = [pose[9:11] for pose in dropeddf.loc[1, 'KeyPoints']]\n",
    "wrists"
   ],
   "metadata": {
    "collapsed": false,
    "ExecuteTime": {
     "start_time": "2023-09-23T17:32:56.064814170Z"
    }
   }
  },
  {
   "cell_type": "code",
   "execution_count": null,
   "outputs": [],
   "source": [
    "def get_center(bbox):\n",
    "    return [(bbox[0] + bbox[2]) / 2, (bbox[1] + bbox[3]) / 2]"
   ],
   "metadata": {
    "collapsed": false,
    "ExecuteTime": {
     "start_time": "2023-09-23T17:32:56.064832995Z"
    }
   }
  },
  {
   "cell_type": "code",
   "execution_count": null,
   "outputs": [],
   "source": [
    "phones = [bbox['cell phones'] for bbox in yolodf.loc[1, 'Position']]"
   ],
   "metadata": {
    "collapsed": false,
    "ExecuteTime": {
     "start_time": "2023-09-23T17:32:56.064851800Z"
    }
   }
  },
  {
   "cell_type": "code",
   "execution_count": null,
   "outputs": [],
   "source": [
    "history = []\n",
    "for frame_id in dropeddf.index:\n",
    "    if frame_id in yolodf.index:\n",
    "        phones = [bbox['cell phones'] for bbox in yolodf.loc[frame_id, 'Position'].values]\n",
    "        wrists = [pose[9:11] for pose in dropeddf.loc[frame_id, 'KeyPoints']]\n",
    "        # iter_arr = history if len(history) < len(phones) else phones\n",
    "        if len(history) < len(phones):\n",
    "            for bbox in history:\n",
    "                bbox_center = get_center(bbox)\n",
    "\n",
    "                bbox[]\n",
    "            "
   ],
   "metadata": {
    "collapsed": false,
    "ExecuteTime": {
     "start_time": "2023-09-23T17:32:56.064892754Z"
    }
   }
  },
  {
   "cell_type": "code",
   "execution_count": null,
   "outputs": [],
   "source": [
    "import numpy as np\n",
    "\n",
    "(dropeddf.Frame_id.values != np.arange(1, len(dropeddf.Frame_id.values) + 1)).sum()"
   ],
   "metadata": {
    "collapsed": false,
    "ExecuteTime": {
     "start_time": "2023-09-23T17:32:56.064947759Z"
    }
   }
  },
  {
   "cell_type": "code",
   "execution_count": null,
   "outputs": [],
   "source": [
    "dropeddf.to_csv('posest.csv')"
   ],
   "metadata": {
    "collapsed": false,
    "ExecuteTime": {
     "start_time": "2023-09-23T17:32:56.064965346Z"
    }
   }
  },
  {
   "cell_type": "code",
   "execution_count": null,
   "outputs": [],
   "source": [
    "yolodf.to_csv('yolo.csv')"
   ],
   "metadata": {
    "collapsed": false,
    "ExecuteTime": {
     "start_time": "2023-09-23T17:32:56.064980326Z"
    }
   }
  },
  {
   "cell_type": "code",
   "execution_count": null,
   "outputs": [],
   "source": [
    "dropeddf.tail(10)"
   ],
   "metadata": {
    "collapsed": false,
    "ExecuteTime": {
     "start_time": "2023-09-23T17:32:56.064995763Z"
    }
   }
  },
  {
   "cell_type": "code",
   "execution_count": null,
   "outputs": [],
   "source": [
    "(dropeddf.index.values != dropeddf['Frame_id'].values - 1).sum()"
   ],
   "metadata": {
    "collapsed": false,
    "ExecuteTime": {
     "start_time": "2023-09-23T17:32:56.065010454Z"
    }
   }
  },
  {
   "cell_type": "code",
   "execution_count": null,
   "outputs": [],
   "source": [
    "import pandas as pd\n",
    "\n",
    "pos_est_data = pd.DataFrame(model.pos_est_values, columns=['Frame_id', 'Time', *model.keypoints])\n",
    "pos_est_data"
   ],
   "metadata": {
    "collapsed": false,
    "ExecuteTime": {
     "start_time": "2023-09-23T17:32:56.065024700Z"
    }
   }
  },
  {
   "cell_type": "code",
   "execution_count": null,
   "outputs": [],
   "source": [
    "pos_est_data"
   ],
   "metadata": {
    "collapsed": false,
    "ExecuteTime": {
     "start_time": "2023-09-23T17:32:56.065038835Z"
    }
   }
  },
  {
   "cell_type": "code",
   "execution_count": null,
   "outputs": [],
   "source": [
    "model.pos_est_data.head(10)"
   ],
   "metadata": {
    "collapsed": false,
    "ExecuteTime": {
     "start_time": "2023-09-23T17:32:56.065052912Z"
    }
   }
  },
  {
   "cell_type": "code",
   "execution_count": null,
   "outputs": [],
   "source": [
    "model.pos_est_data.info()"
   ],
   "metadata": {
    "collapsed": false,
    "ExecuteTime": {
     "start_time": "2023-09-23T17:32:56.065067289Z"
    }
   }
  },
  {
   "cell_type": "code",
   "execution_count": null,
   "outputs": [],
   "source": [
    "from ultralytics import YOLO\n",
    "\n",
    "model = YOLO('models/yolov8x-pose.pt').to('cuda')\n",
    "result = model.predict(DATA_PATH, stream=True, save=True)"
   ],
   "metadata": {
    "collapsed": false,
    "ExecuteTime": {
     "start_time": "2023-09-23T17:32:56.109478465Z"
    }
   }
  },
  {
   "cell_type": "code",
   "execution_count": null,
   "outputs": [],
   "source": [
    "model('result/model_output_video.avi')"
   ],
   "metadata": {
    "collapsed": false,
    "ExecuteTime": {
     "start_time": "2023-09-23T17:32:56.109804725Z"
    }
   }
  },
  {
   "cell_type": "code",
   "execution_count": null,
   "outputs": [],
   "source": [
    "model.pos_est_data.to_csv('result/pos_est_data.csv', index=0)"
   ],
   "metadata": {
    "collapsed": false,
    "ExecuteTime": {
     "start_time": "2023-09-23T17:32:56.109914966Z"
    }
   }
  },
  {
   "cell_type": "markdown",
   "source": [],
   "metadata": {
    "collapsed": false
   }
  },
  {
   "cell_type": "code",
   "execution_count": null,
   "outputs": [],
   "source": [
    "model.detected_data.to_csv('result/detected_data.csv', index=0)"
   ],
   "metadata": {
    "collapsed": false,
    "ExecuteTime": {
     "start_time": "2023-09-23T17:32:56.110069793Z"
    }
   }
  }
 ],
 "metadata": {
  "kernelspec": {
   "display_name": "Python 3",
   "language": "python",
   "name": "python3"
  },
  "language_info": {
   "codemirror_mode": {
    "name": "ipython",
    "version": 2
   },
   "file_extension": ".py",
   "mimetype": "text/x-python",
   "name": "python",
   "nbconvert_exporter": "python",
   "pygments_lexer": "ipython2",
   "version": "2.7.6"
  }
 },
 "nbformat": 4,
 "nbformat_minor": 0
}
